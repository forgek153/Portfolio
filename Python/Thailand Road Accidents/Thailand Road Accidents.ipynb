{
 "cells": [
  {
   "cell_type": "code",
   "execution_count": 239,
   "id": "d4247523",
   "metadata": {},
   "outputs": [],
   "source": [
    "#import libraries\n",
    "import numpy as np\n",
    "import pandas as pd\n",
    "import matplotlib.pyplot as plt\n",
    "import matplotlib.dates as md\n",
    "import seaborn as sns\n",
    "#load csv\n",
    "df = pd.read_csv('thai_road_accident_2019_2022.csv')"
   ]
  },
  {
   "cell_type": "code",
   "execution_count": 240,
   "id": "5a37bce6",
   "metadata": {},
   "outputs": [
    {
     "data": {
      "text/html": [
       "<div>\n",
       "<style scoped>\n",
       "    .dataframe tbody tr th:only-of-type {\n",
       "        vertical-align: middle;\n",
       "    }\n",
       "\n",
       "    .dataframe tbody tr th {\n",
       "        vertical-align: top;\n",
       "    }\n",
       "\n",
       "    .dataframe thead th {\n",
       "        text-align: right;\n",
       "    }\n",
       "</style>\n",
       "<table border=\"1\" class=\"dataframe\">\n",
       "  <thead>\n",
       "    <tr style=\"text-align: right;\">\n",
       "      <th></th>\n",
       "      <th>acc_code</th>\n",
       "      <th>incident_datetime</th>\n",
       "      <th>report_datetime</th>\n",
       "      <th>province_th</th>\n",
       "      <th>province_en</th>\n",
       "      <th>agency</th>\n",
       "      <th>route</th>\n",
       "      <th>vehicle_type</th>\n",
       "      <th>presumed_cause</th>\n",
       "      <th>accident_type</th>\n",
       "      <th>number_of_vehicles_involved</th>\n",
       "      <th>number_of_fatalities</th>\n",
       "      <th>number_of_injuries</th>\n",
       "      <th>weather_condition</th>\n",
       "      <th>latitude</th>\n",
       "      <th>longitude</th>\n",
       "      <th>road_description</th>\n",
       "      <th>slope_description</th>\n",
       "    </tr>\n",
       "  </thead>\n",
       "  <tbody>\n",
       "    <tr>\n",
       "      <th>0</th>\n",
       "      <td>571905</td>\n",
       "      <td>2019-01-01 00:00:00</td>\n",
       "      <td>2019-01-02 06:11:00</td>\n",
       "      <td>ลพบุรี</td>\n",
       "      <td>Loburi</td>\n",
       "      <td>department of rural roads</td>\n",
       "      <td>แยกทางหลวงหมายเลข 21 (กม.ที่ 31+000) - บ้านวัง...</td>\n",
       "      <td>motorcycle</td>\n",
       "      <td>driving under the influence of alcohol</td>\n",
       "      <td>other</td>\n",
       "      <td>1</td>\n",
       "      <td>0</td>\n",
       "      <td>2</td>\n",
       "      <td>clear</td>\n",
       "      <td>14.959105</td>\n",
       "      <td>100.873463</td>\n",
       "      <td>straight road</td>\n",
       "      <td>no slope</td>\n",
       "    </tr>\n",
       "    <tr>\n",
       "      <th>1</th>\n",
       "      <td>3790870</td>\n",
       "      <td>2019-01-01 00:03:00</td>\n",
       "      <td>2020-02-20 13:48:00</td>\n",
       "      <td>อุบลราชธานี</td>\n",
       "      <td>Ubon Ratchathani</td>\n",
       "      <td>department of highways</td>\n",
       "      <td>เดชอุดม - อุบลราชธานี</td>\n",
       "      <td>private/passenger car</td>\n",
       "      <td>speeding</td>\n",
       "      <td>rollover/fallen on straight road</td>\n",
       "      <td>1</td>\n",
       "      <td>0</td>\n",
       "      <td>2</td>\n",
       "      <td>clear</td>\n",
       "      <td>15.210738</td>\n",
       "      <td>104.862689</td>\n",
       "      <td>straight road</td>\n",
       "      <td>no slope</td>\n",
       "    </tr>\n",
       "    <tr>\n",
       "      <th>2</th>\n",
       "      <td>599075</td>\n",
       "      <td>2019-01-01 00:05:00</td>\n",
       "      <td>2019-01-01 10:35:00</td>\n",
       "      <td>ประจวบคีรีขันธ์</td>\n",
       "      <td>Prachuap Khiri Khan</td>\n",
       "      <td>department of highways</td>\n",
       "      <td>ปราณบุรี - ปากน้ำปราณ</td>\n",
       "      <td>motorcycle</td>\n",
       "      <td>speeding</td>\n",
       "      <td>head-on collision (not overtaking)</td>\n",
       "      <td>2</td>\n",
       "      <td>1</td>\n",
       "      <td>0</td>\n",
       "      <td>clear</td>\n",
       "      <td>12.374259</td>\n",
       "      <td>99.907949</td>\n",
       "      <td>wide curve</td>\n",
       "      <td>slope area</td>\n",
       "    </tr>\n",
       "    <tr>\n",
       "      <th>3</th>\n",
       "      <td>571924</td>\n",
       "      <td>2019-01-01 00:20:00</td>\n",
       "      <td>2019-01-02 05:12:00</td>\n",
       "      <td>เชียงใหม่</td>\n",
       "      <td>Chiang Mai</td>\n",
       "      <td>department of rural roads</td>\n",
       "      <td>เชื่อมทางหลวงหมายเลข 1013 (กม.ที่ 8+200) - บ้า...</td>\n",
       "      <td>motorcycle</td>\n",
       "      <td>driving under the influence of alcohol</td>\n",
       "      <td>other</td>\n",
       "      <td>1</td>\n",
       "      <td>0</td>\n",
       "      <td>1</td>\n",
       "      <td>clear</td>\n",
       "      <td>18.601721</td>\n",
       "      <td>98.804204</td>\n",
       "      <td>straight road</td>\n",
       "      <td>no slope</td>\n",
       "    </tr>\n",
       "    <tr>\n",
       "      <th>4</th>\n",
       "      <td>599523</td>\n",
       "      <td>2019-01-01 00:25:00</td>\n",
       "      <td>2019-01-04 09:42:00</td>\n",
       "      <td>นครสวรรค์</td>\n",
       "      <td>Nakhon Sawan</td>\n",
       "      <td>department of highways</td>\n",
       "      <td>เกยไชย - ศรีมงคล</td>\n",
       "      <td>private/passenger car</td>\n",
       "      <td>cutting in closely by people/vehicles/animals</td>\n",
       "      <td>rollover/fallen on straight road</td>\n",
       "      <td>1</td>\n",
       "      <td>0</td>\n",
       "      <td>0</td>\n",
       "      <td>clear</td>\n",
       "      <td>15.866389</td>\n",
       "      <td>100.590010</td>\n",
       "      <td>straight road</td>\n",
       "      <td>no slope</td>\n",
       "    </tr>\n",
       "  </tbody>\n",
       "</table>\n",
       "</div>"
      ],
      "text/plain": [
       "   acc_code    incident_datetime      report_datetime      province_th  \\\n",
       "0    571905  2019-01-01 00:00:00  2019-01-02 06:11:00           ลพบุรี   \n",
       "1   3790870  2019-01-01 00:03:00  2020-02-20 13:48:00      อุบลราชธานี   \n",
       "2    599075  2019-01-01 00:05:00  2019-01-01 10:35:00  ประจวบคีรีขันธ์   \n",
       "3    571924  2019-01-01 00:20:00  2019-01-02 05:12:00        เชียงใหม่   \n",
       "4    599523  2019-01-01 00:25:00  2019-01-04 09:42:00        นครสวรรค์   \n",
       "\n",
       "           province_en                     agency  \\\n",
       "0               Loburi  department of rural roads   \n",
       "1     Ubon Ratchathani     department of highways   \n",
       "2  Prachuap Khiri Khan     department of highways   \n",
       "3           Chiang Mai  department of rural roads   \n",
       "4         Nakhon Sawan     department of highways   \n",
       "\n",
       "                                               route           vehicle_type  \\\n",
       "0  แยกทางหลวงหมายเลข 21 (กม.ที่ 31+000) - บ้านวัง...             motorcycle   \n",
       "1                              เดชอุดม - อุบลราชธานี  private/passenger car   \n",
       "2                              ปราณบุรี - ปากน้ำปราณ             motorcycle   \n",
       "3  เชื่อมทางหลวงหมายเลข 1013 (กม.ที่ 8+200) - บ้า...             motorcycle   \n",
       "4                                   เกยไชย - ศรีมงคล  private/passenger car   \n",
       "\n",
       "                                  presumed_cause  \\\n",
       "0         driving under the influence of alcohol   \n",
       "1                                       speeding   \n",
       "2                                       speeding   \n",
       "3         driving under the influence of alcohol   \n",
       "4  cutting in closely by people/vehicles/animals   \n",
       "\n",
       "                        accident_type  number_of_vehicles_involved  \\\n",
       "0                               other                            1   \n",
       "1    rollover/fallen on straight road                            1   \n",
       "2  head-on collision (not overtaking)                            2   \n",
       "3                               other                            1   \n",
       "4    rollover/fallen on straight road                            1   \n",
       "\n",
       "   number_of_fatalities  number_of_injuries weather_condition   latitude  \\\n",
       "0                     0                   2             clear  14.959105   \n",
       "1                     0                   2             clear  15.210738   \n",
       "2                     1                   0             clear  12.374259   \n",
       "3                     0                   1             clear  18.601721   \n",
       "4                     0                   0             clear  15.866389   \n",
       "\n",
       "    longitude road_description slope_description  \n",
       "0  100.873463    straight road          no slope  \n",
       "1  104.862689    straight road          no slope  \n",
       "2   99.907949       wide curve        slope area  \n",
       "3   98.804204    straight road          no slope  \n",
       "4  100.590010    straight road          no slope  "
      ]
     },
     "execution_count": 240,
     "metadata": {},
     "output_type": "execute_result"
    }
   ],
   "source": [
    "#preview dataset\n",
    "df.head()"
   ]
  },
  {
   "cell_type": "markdown",
   "id": "c4b8ae61",
   "metadata": {},
   "source": [
    "Let's get to know our dataset better.\n",
    "\n",
    "We will run a few lines of codes to query some information about our dataset\n",
    "\n",
    "- How many samples and columns does our data set have?\n",
    "- Are the datatypes correct?\n",
    "- Are there any missing values?\n",
    "- How many unique values are there?\n",
    "- Are there any duplicated rows we need to filter out?\n",
    "\n"
   ]
  },
  {
   "cell_type": "markdown",
   "id": "315a6b56",
   "metadata": {},
   "source": [
    "## How many samples and columns does our data set have?"
   ]
  },
  {
   "cell_type": "code",
   "execution_count": 241,
   "id": "875c8c84",
   "metadata": {},
   "outputs": [
    {
     "data": {
      "text/plain": [
       "(81735, 18)"
      ]
     },
     "execution_count": 241,
     "metadata": {},
     "output_type": "execute_result"
    }
   ],
   "source": [
    "#number of samples and columns in each data set\n",
    "df.shape"
   ]
  },
  {
   "cell_type": "markdown",
   "id": "bb7b3253",
   "metadata": {},
   "source": [
    "## Are the datatypes correct?"
   ]
  },
  {
   "cell_type": "code",
   "execution_count": 242,
   "id": "41a73979",
   "metadata": {
    "scrolled": false
   },
   "outputs": [
    {
     "name": "stdout",
     "output_type": "stream",
     "text": [
      "<class 'pandas.core.frame.DataFrame'>\n",
      "RangeIndex: 81735 entries, 0 to 81734\n",
      "Data columns (total 18 columns):\n",
      " #   Column                       Non-Null Count  Dtype  \n",
      "---  ------                       --------------  -----  \n",
      " 0   acc_code                     81735 non-null  int64  \n",
      " 1   incident_datetime            81735 non-null  object \n",
      " 2   report_datetime              81735 non-null  object \n",
      " 3   province_th                  81735 non-null  object \n",
      " 4   province_en                  81735 non-null  object \n",
      " 5   agency                       81735 non-null  object \n",
      " 6   route                        81735 non-null  object \n",
      " 7   vehicle_type                 81735 non-null  object \n",
      " 8   presumed_cause               81735 non-null  object \n",
      " 9   accident_type                81735 non-null  object \n",
      " 10  number_of_vehicles_involved  81735 non-null  int64  \n",
      " 11  number_of_fatalities         81735 non-null  int64  \n",
      " 12  number_of_injuries           81735 non-null  int64  \n",
      " 13  weather_condition            81735 non-null  object \n",
      " 14  latitude                     81376 non-null  float64\n",
      " 15  longitude                    81376 non-null  float64\n",
      " 16  road_description             81735 non-null  object \n",
      " 17  slope_description            81735 non-null  object \n",
      "dtypes: float64(2), int64(4), object(12)\n",
      "memory usage: 11.2+ MB\n"
     ]
    }
   ],
   "source": [
    "#datatype of columns\n",
    "df.info()"
   ]
  },
  {
   "cell_type": "markdown",
   "id": "a9bce984",
   "metadata": {},
   "source": [
    "## Are there any missing values?"
   ]
  },
  {
   "cell_type": "code",
   "execution_count": 243,
   "id": "1261144e",
   "metadata": {},
   "outputs": [
    {
     "data": {
      "text/plain": [
       "acc_code                         0\n",
       "incident_datetime                0\n",
       "report_datetime                  0\n",
       "province_th                      0\n",
       "province_en                      0\n",
       "agency                           0\n",
       "route                            0\n",
       "vehicle_type                     0\n",
       "presumed_cause                   0\n",
       "accident_type                    0\n",
       "number_of_vehicles_involved      0\n",
       "number_of_fatalities             0\n",
       "number_of_injuries               0\n",
       "weather_condition                0\n",
       "latitude                       359\n",
       "longitude                      359\n",
       "road_description                 0\n",
       "slope_description                0\n",
       "dtype: int64"
      ]
     },
     "execution_count": 243,
     "metadata": {},
     "output_type": "execute_result"
    }
   ],
   "source": [
    "#Columns with missing value\n",
    "df.isnull().sum()"
   ]
  },
  {
   "cell_type": "markdown",
   "id": "c1d50913",
   "metadata": {},
   "source": [
    "## How many unique values are there?"
   ]
  },
  {
   "cell_type": "code",
   "execution_count": 244,
   "id": "21f7e3c9",
   "metadata": {},
   "outputs": [
    {
     "data": {
      "text/plain": [
       "acc_code                       81735\n",
       "incident_datetime              67917\n",
       "report_datetime                66234\n",
       "province_th                       78\n",
       "province_en                       78\n",
       "agency                             3\n",
       "route                           3882\n",
       "vehicle_type                      15\n",
       "presumed_cause                    54\n",
       "accident_type                     11\n",
       "number_of_vehicles_involved       18\n",
       "number_of_fatalities              13\n",
       "number_of_injuries                41\n",
       "weather_condition                  7\n",
       "latitude                       74807\n",
       "longitude                      74322\n",
       "road_description                  19\n",
       "slope_description                  3\n",
       "dtype: int64"
      ]
     },
     "execution_count": 244,
     "metadata": {},
     "output_type": "execute_result"
    }
   ],
   "source": [
    "#number of non-null unique values for each column\n",
    "df.nunique()"
   ]
  },
  {
   "cell_type": "markdown",
   "id": "81de1a6e",
   "metadata": {},
   "source": [
    "The results from running df.nunique() provided us with a more indepth information of our dataset. We've discovered that there are 11 accident types, and we'll use the .unique() function to display what those 11 types are.\n"
   ]
  },
  {
   "cell_type": "code",
   "execution_count": 245,
   "id": "640ab699",
   "metadata": {},
   "outputs": [
    {
     "name": "stdout",
     "output_type": "stream",
     "text": [
      "1. other\n",
      "2. rollover/fallen on straight road\n",
      "3. head-on collision (not overtaking)\n",
      "4. collision at intersection corner\n",
      "5. collision with obstruction (on road surface)\n",
      "6. rear-end collision\n",
      "7. pedestrian collision\n",
      "8. rollover/fallen on curved road\n",
      "9. collision during overtaking\n",
      "10. turning/retreating collision\n",
      "11. side collision\n"
     ]
    }
   ],
   "source": [
    "for i, accident_type in enumerate(df['accident_type'].unique(), start=1):\n",
    "    print(f\"{i}. {accident_type}\")"
   ]
  },
  {
   "cell_type": "markdown",
   "id": "eaae4a37",
   "metadata": {},
   "source": [
    "# Changing data types, finding duplicates, and dropping nulls\n",
    "1. Changing datatype:\n",
    "    As we can see from df.info datetime column types are object. Let's fix that so we can utilize this column to further       our analysis\n",
    "2. Finding and removing duplicates (if any):\n",
    "    We will be using df.duplicated().sum() to remove any duplicated rows\n",
    "3. Drop Nulls\n",
    "    From df.isnull.sum() we've uncovered that there are 359 rows without latitude and longitude. "
   ]
  },
  {
   "cell_type": "markdown",
   "id": "dc3ced7f",
   "metadata": {},
   "source": [
    "## Changing data types"
   ]
  },
  {
   "cell_type": "code",
   "execution_count": 246,
   "id": "571a06a1",
   "metadata": {},
   "outputs": [
    {
     "name": "stdout",
     "output_type": "stream",
     "text": [
      "<class 'pandas.core.frame.DataFrame'>\n",
      "RangeIndex: 81735 entries, 0 to 81734\n",
      "Data columns (total 18 columns):\n",
      " #   Column                       Non-Null Count  Dtype         \n",
      "---  ------                       --------------  -----         \n",
      " 0   acc_code                     81735 non-null  int64         \n",
      " 1   incident_datetime            81735 non-null  datetime64[ns]\n",
      " 2   report_datetime              81735 non-null  datetime64[ns]\n",
      " 3   province_th                  81735 non-null  object        \n",
      " 4   province_en                  81735 non-null  object        \n",
      " 5   agency                       81735 non-null  object        \n",
      " 6   route                        81735 non-null  object        \n",
      " 7   vehicle_type                 81735 non-null  object        \n",
      " 8   presumed_cause               81735 non-null  object        \n",
      " 9   accident_type                81735 non-null  object        \n",
      " 10  number_of_vehicles_involved  81735 non-null  int64         \n",
      " 11  number_of_fatalities         81735 non-null  int64         \n",
      " 12  number_of_injuries           81735 non-null  int64         \n",
      " 13  weather_condition            81735 non-null  object        \n",
      " 14  latitude                     81376 non-null  float64       \n",
      " 15  longitude                    81376 non-null  float64       \n",
      " 16  road_description             81735 non-null  object        \n",
      " 17  slope_description            81735 non-null  object        \n",
      "dtypes: datetime64[ns](2), float64(2), int64(4), object(10)\n",
      "memory usage: 11.2+ MB\n"
     ]
    }
   ],
   "source": [
    "#Changing datetime columns to datetime datatypes\n",
    "df['incident_datetime'] = pd.to_datetime(df['incident_datetime'])\n",
    "df['report_datetime'] = pd.to_datetime(df['report_datetime'])\n",
    "df.info()"
   ]
  },
  {
   "cell_type": "markdown",
   "id": "0dabc298",
   "metadata": {},
   "source": [
    "## Finding duplicates"
   ]
  },
  {
   "cell_type": "code",
   "execution_count": 247,
   "id": "7c4ea84d",
   "metadata": {},
   "outputs": [
    {
     "data": {
      "text/plain": [
       "0"
      ]
     },
     "execution_count": 247,
     "metadata": {},
     "output_type": "execute_result"
    }
   ],
   "source": [
    "#Finding duplicates\n",
    "df.duplicated().sum()"
   ]
  },
  {
   "cell_type": "markdown",
   "id": "bbe2f727",
   "metadata": {},
   "source": [
    "There are no duplicated rows in this dataset"
   ]
  },
  {
   "cell_type": "markdown",
   "id": "b78f66d6",
   "metadata": {},
   "source": [
    "## Dropping nulls"
   ]
  },
  {
   "cell_type": "code",
   "execution_count": 248,
   "id": "942e1abb",
   "metadata": {},
   "outputs": [
    {
     "data": {
      "text/plain": [
       "acc_code                         0\n",
       "incident_datetime                0\n",
       "report_datetime                  0\n",
       "province_th                      0\n",
       "province_en                      0\n",
       "agency                           0\n",
       "route                            0\n",
       "vehicle_type                     0\n",
       "presumed_cause                   0\n",
       "accident_type                    0\n",
       "number_of_vehicles_involved      0\n",
       "number_of_fatalities             0\n",
       "number_of_injuries               0\n",
       "weather_condition                0\n",
       "latitude                       359\n",
       "longitude                      359\n",
       "road_description                 0\n",
       "slope_description                0\n",
       "dtype: int64"
      ]
     },
     "execution_count": 248,
     "metadata": {},
     "output_type": "execute_result"
    }
   ],
   "source": [
    "#Columns with missing value\n",
    "df.isnull().sum()"
   ]
  },
  {
   "cell_type": "markdown",
   "id": "8d4c66e5",
   "metadata": {},
   "source": [
    "We've detected 359 missing values from longitude and latitude. We will then run df.dropna() and inplace=True as parameter to  apply changes to the current dataframe"
   ]
  },
  {
   "cell_type": "code",
   "execution_count": 249,
   "id": "6feec364",
   "metadata": {},
   "outputs": [],
   "source": [
    "df.dropna(inplace=True)"
   ]
  },
  {
   "cell_type": "code",
   "execution_count": 250,
   "id": "0c1d9ffd",
   "metadata": {},
   "outputs": [
    {
     "data": {
      "text/plain": [
       "False"
      ]
     },
     "execution_count": 250,
     "metadata": {},
     "output_type": "execute_result"
    }
   ],
   "source": [
    "#rechecking if dropna has been applied\n",
    "df.isnull().sum().any()"
   ]
  },
  {
   "cell_type": "markdown",
   "id": "0d2f5c21",
   "metadata": {},
   "source": [
    "## Seperate Datetime Values"
   ]
  },
  {
   "cell_type": "code",
   "execution_count": 251,
   "id": "4cf1be1f",
   "metadata": {},
   "outputs": [],
   "source": [
    "# Extract year, month, day, and time into separate columns\n",
    "df['incident_year'] = df['incident_datetime'].dt.year\n",
    "df['incident_month'] = df['incident_datetime'].dt.month\n",
    "df['incident_day'] = df['incident_datetime'].dt.day\n",
    "df['incident_time'] = df['incident_datetime'].dt.time\n",
    "\n",
    "df['report_year'] = df['report_datetime'].dt.year\n",
    "df['report_month'] = df['report_datetime'].dt.month\n",
    "df['report_day'] = df['report_datetime'].dt.day\n",
    "df['report_time'] = df['report_datetime'].dt.time"
   ]
  },
  {
   "cell_type": "code",
   "execution_count": 252,
   "id": "777d0621",
   "metadata": {},
   "outputs": [
    {
     "data": {
      "text/html": [
       "<div>\n",
       "<style scoped>\n",
       "    .dataframe tbody tr th:only-of-type {\n",
       "        vertical-align: middle;\n",
       "    }\n",
       "\n",
       "    .dataframe tbody tr th {\n",
       "        vertical-align: top;\n",
       "    }\n",
       "\n",
       "    .dataframe thead th {\n",
       "        text-align: right;\n",
       "    }\n",
       "</style>\n",
       "<table border=\"1\" class=\"dataframe\">\n",
       "  <thead>\n",
       "    <tr style=\"text-align: right;\">\n",
       "      <th></th>\n",
       "      <th>acc_code</th>\n",
       "      <th>incident_datetime</th>\n",
       "      <th>incident_year</th>\n",
       "      <th>incident_month</th>\n",
       "      <th>incident_day</th>\n",
       "      <th>incident_time</th>\n",
       "      <th>report_datetime</th>\n",
       "      <th>report_year</th>\n",
       "      <th>report_month</th>\n",
       "      <th>report_day</th>\n",
       "      <th>...</th>\n",
       "      <th>presumed_cause</th>\n",
       "      <th>accident_type</th>\n",
       "      <th>number_of_vehicles_involved</th>\n",
       "      <th>number_of_fatalities</th>\n",
       "      <th>number_of_injuries</th>\n",
       "      <th>weather_condition</th>\n",
       "      <th>latitude</th>\n",
       "      <th>longitude</th>\n",
       "      <th>road_description</th>\n",
       "      <th>slope_description</th>\n",
       "    </tr>\n",
       "  </thead>\n",
       "  <tbody>\n",
       "    <tr>\n",
       "      <th>0</th>\n",
       "      <td>571905</td>\n",
       "      <td>2019-01-01 00:00:00</td>\n",
       "      <td>2019</td>\n",
       "      <td>1</td>\n",
       "      <td>1</td>\n",
       "      <td>00:00:00</td>\n",
       "      <td>2019-01-02 06:11:00</td>\n",
       "      <td>2019</td>\n",
       "      <td>1</td>\n",
       "      <td>2</td>\n",
       "      <td>...</td>\n",
       "      <td>driving under the influence of alcohol</td>\n",
       "      <td>other</td>\n",
       "      <td>1</td>\n",
       "      <td>0</td>\n",
       "      <td>2</td>\n",
       "      <td>clear</td>\n",
       "      <td>14.959105</td>\n",
       "      <td>100.873463</td>\n",
       "      <td>straight road</td>\n",
       "      <td>no slope</td>\n",
       "    </tr>\n",
       "    <tr>\n",
       "      <th>1</th>\n",
       "      <td>3790870</td>\n",
       "      <td>2019-01-01 00:03:00</td>\n",
       "      <td>2019</td>\n",
       "      <td>1</td>\n",
       "      <td>1</td>\n",
       "      <td>00:03:00</td>\n",
       "      <td>2020-02-20 13:48:00</td>\n",
       "      <td>2020</td>\n",
       "      <td>2</td>\n",
       "      <td>20</td>\n",
       "      <td>...</td>\n",
       "      <td>speeding</td>\n",
       "      <td>rollover/fallen on straight road</td>\n",
       "      <td>1</td>\n",
       "      <td>0</td>\n",
       "      <td>2</td>\n",
       "      <td>clear</td>\n",
       "      <td>15.210738</td>\n",
       "      <td>104.862689</td>\n",
       "      <td>straight road</td>\n",
       "      <td>no slope</td>\n",
       "    </tr>\n",
       "    <tr>\n",
       "      <th>2</th>\n",
       "      <td>599075</td>\n",
       "      <td>2019-01-01 00:05:00</td>\n",
       "      <td>2019</td>\n",
       "      <td>1</td>\n",
       "      <td>1</td>\n",
       "      <td>00:05:00</td>\n",
       "      <td>2019-01-01 10:35:00</td>\n",
       "      <td>2019</td>\n",
       "      <td>1</td>\n",
       "      <td>1</td>\n",
       "      <td>...</td>\n",
       "      <td>speeding</td>\n",
       "      <td>head-on collision (not overtaking)</td>\n",
       "      <td>2</td>\n",
       "      <td>1</td>\n",
       "      <td>0</td>\n",
       "      <td>clear</td>\n",
       "      <td>12.374259</td>\n",
       "      <td>99.907949</td>\n",
       "      <td>wide curve</td>\n",
       "      <td>slope area</td>\n",
       "    </tr>\n",
       "    <tr>\n",
       "      <th>3</th>\n",
       "      <td>571924</td>\n",
       "      <td>2019-01-01 00:20:00</td>\n",
       "      <td>2019</td>\n",
       "      <td>1</td>\n",
       "      <td>1</td>\n",
       "      <td>00:20:00</td>\n",
       "      <td>2019-01-02 05:12:00</td>\n",
       "      <td>2019</td>\n",
       "      <td>1</td>\n",
       "      <td>2</td>\n",
       "      <td>...</td>\n",
       "      <td>driving under the influence of alcohol</td>\n",
       "      <td>other</td>\n",
       "      <td>1</td>\n",
       "      <td>0</td>\n",
       "      <td>1</td>\n",
       "      <td>clear</td>\n",
       "      <td>18.601721</td>\n",
       "      <td>98.804204</td>\n",
       "      <td>straight road</td>\n",
       "      <td>no slope</td>\n",
       "    </tr>\n",
       "    <tr>\n",
       "      <th>4</th>\n",
       "      <td>599523</td>\n",
       "      <td>2019-01-01 00:25:00</td>\n",
       "      <td>2019</td>\n",
       "      <td>1</td>\n",
       "      <td>1</td>\n",
       "      <td>00:25:00</td>\n",
       "      <td>2019-01-04 09:42:00</td>\n",
       "      <td>2019</td>\n",
       "      <td>1</td>\n",
       "      <td>4</td>\n",
       "      <td>...</td>\n",
       "      <td>cutting in closely by people/vehicles/animals</td>\n",
       "      <td>rollover/fallen on straight road</td>\n",
       "      <td>1</td>\n",
       "      <td>0</td>\n",
       "      <td>0</td>\n",
       "      <td>clear</td>\n",
       "      <td>15.866389</td>\n",
       "      <td>100.590010</td>\n",
       "      <td>straight road</td>\n",
       "      <td>no slope</td>\n",
       "    </tr>\n",
       "  </tbody>\n",
       "</table>\n",
       "<p>5 rows × 26 columns</p>\n",
       "</div>"
      ],
      "text/plain": [
       "   acc_code   incident_datetime  incident_year  incident_month  incident_day  \\\n",
       "0    571905 2019-01-01 00:00:00           2019               1             1   \n",
       "1   3790870 2019-01-01 00:03:00           2019               1             1   \n",
       "2    599075 2019-01-01 00:05:00           2019               1             1   \n",
       "3    571924 2019-01-01 00:20:00           2019               1             1   \n",
       "4    599523 2019-01-01 00:25:00           2019               1             1   \n",
       "\n",
       "  incident_time     report_datetime  report_year  report_month  report_day  \\\n",
       "0      00:00:00 2019-01-02 06:11:00         2019             1           2   \n",
       "1      00:03:00 2020-02-20 13:48:00         2020             2          20   \n",
       "2      00:05:00 2019-01-01 10:35:00         2019             1           1   \n",
       "3      00:20:00 2019-01-02 05:12:00         2019             1           2   \n",
       "4      00:25:00 2019-01-04 09:42:00         2019             1           4   \n",
       "\n",
       "   ...                                 presumed_cause  \\\n",
       "0  ...         driving under the influence of alcohol   \n",
       "1  ...                                       speeding   \n",
       "2  ...                                       speeding   \n",
       "3  ...         driving under the influence of alcohol   \n",
       "4  ...  cutting in closely by people/vehicles/animals   \n",
       "\n",
       "                        accident_type number_of_vehicles_involved  \\\n",
       "0                               other                           1   \n",
       "1    rollover/fallen on straight road                           1   \n",
       "2  head-on collision (not overtaking)                           2   \n",
       "3                               other                           1   \n",
       "4    rollover/fallen on straight road                           1   \n",
       "\n",
       "  number_of_fatalities number_of_injuries weather_condition   latitude  \\\n",
       "0                    0                  2             clear  14.959105   \n",
       "1                    0                  2             clear  15.210738   \n",
       "2                    1                  0             clear  12.374259   \n",
       "3                    0                  1             clear  18.601721   \n",
       "4                    0                  0             clear  15.866389   \n",
       "\n",
       "    longitude  road_description  slope_description  \n",
       "0  100.873463     straight road           no slope  \n",
       "1  104.862689     straight road           no slope  \n",
       "2   99.907949        wide curve         slope area  \n",
       "3   98.804204     straight road           no slope  \n",
       "4  100.590010     straight road           no slope  \n",
       "\n",
       "[5 rows x 26 columns]"
      ]
     },
     "execution_count": 252,
     "metadata": {},
     "output_type": "execute_result"
    }
   ],
   "source": [
    "df = df[['acc_code', 'incident_datetime', 'incident_year', 'incident_month', 'incident_day', 'incident_time', 'report_datetime', 'report_year', 'report_month', 'report_day', 'report_time', 'province_th', 'province_en', 'agency', 'route', 'vehicle_type', 'presumed_cause', 'accident_type', 'number_of_vehicles_involved', 'number_of_fatalities', 'number_of_injuries', 'weather_condition', 'latitude', 'longitude', 'road_description', 'slope_description']]\n",
    "df.head()\n"
   ]
  },
  {
   "cell_type": "markdown",
   "id": "6bb05853",
   "metadata": {},
   "source": [
    "# Exploring with data"
   ]
  },
  {
   "cell_type": "code",
   "execution_count": 253,
   "id": "13befe3e",
   "metadata": {
    "scrolled": true
   },
   "outputs": [
    {
     "data": {
      "text/html": [
       "<div>\n",
       "<style scoped>\n",
       "    .dataframe tbody tr th:only-of-type {\n",
       "        vertical-align: middle;\n",
       "    }\n",
       "\n",
       "    .dataframe tbody tr th {\n",
       "        vertical-align: top;\n",
       "    }\n",
       "\n",
       "    .dataframe thead th {\n",
       "        text-align: right;\n",
       "    }\n",
       "</style>\n",
       "<table border=\"1\" class=\"dataframe\">\n",
       "  <thead>\n",
       "    <tr style=\"text-align: right;\">\n",
       "      <th></th>\n",
       "      <th>acc_code</th>\n",
       "      <th>incident_year</th>\n",
       "      <th>incident_month</th>\n",
       "      <th>incident_day</th>\n",
       "      <th>report_year</th>\n",
       "      <th>report_month</th>\n",
       "      <th>report_day</th>\n",
       "      <th>number_of_vehicles_involved</th>\n",
       "      <th>number_of_fatalities</th>\n",
       "      <th>number_of_injuries</th>\n",
       "      <th>latitude</th>\n",
       "      <th>longitude</th>\n",
       "    </tr>\n",
       "  </thead>\n",
       "  <tbody>\n",
       "    <tr>\n",
       "      <th>count</th>\n",
       "      <td>8.137600e+04</td>\n",
       "      <td>81376.000000</td>\n",
       "      <td>81376.000000</td>\n",
       "      <td>81376.000000</td>\n",
       "      <td>81376.000000</td>\n",
       "      <td>81376.000000</td>\n",
       "      <td>81376.000000</td>\n",
       "      <td>81376.000000</td>\n",
       "      <td>81376.000000</td>\n",
       "      <td>81376.000000</td>\n",
       "      <td>81376.000000</td>\n",
       "      <td>81376.000000</td>\n",
       "    </tr>\n",
       "    <tr>\n",
       "      <th>mean</th>\n",
       "      <td>4.228913e+06</td>\n",
       "      <td>2020.525868</td>\n",
       "      <td>6.468762</td>\n",
       "      <td>15.724870</td>\n",
       "      <td>2020.787124</td>\n",
       "      <td>5.854490</td>\n",
       "      <td>16.211438</td>\n",
       "      <td>1.534826</td>\n",
       "      <td>0.146136</td>\n",
       "      <td>0.813864</td>\n",
       "      <td>14.377542</td>\n",
       "      <td>100.808802</td>\n",
       "    </tr>\n",
       "    <tr>\n",
       "      <th>std</th>\n",
       "      <td>2.128999e+06</td>\n",
       "      <td>1.110495</td>\n",
       "      <td>3.631612</td>\n",
       "      <td>9.044151</td>\n",
       "      <td>1.151265</td>\n",
       "      <td>3.732134</td>\n",
       "      <td>9.192524</td>\n",
       "      <td>0.807075</td>\n",
       "      <td>0.434604</td>\n",
       "      <td>1.464071</td>\n",
       "      <td>3.065689</td>\n",
       "      <td>1.484859</td>\n",
       "    </tr>\n",
       "    <tr>\n",
       "      <th>min</th>\n",
       "      <td>5.718340e+05</td>\n",
       "      <td>2019.000000</td>\n",
       "      <td>1.000000</td>\n",
       "      <td>1.000000</td>\n",
       "      <td>2019.000000</td>\n",
       "      <td>1.000000</td>\n",
       "      <td>1.000000</td>\n",
       "      <td>0.000000</td>\n",
       "      <td>0.000000</td>\n",
       "      <td>0.000000</td>\n",
       "      <td>-0.001108</td>\n",
       "      <td>18.017161</td>\n",
       "    </tr>\n",
       "    <tr>\n",
       "      <th>25%</th>\n",
       "      <td>3.789326e+06</td>\n",
       "      <td>2020.000000</td>\n",
       "      <td>3.000000</td>\n",
       "      <td>8.000000</td>\n",
       "      <td>2020.000000</td>\n",
       "      <td>3.000000</td>\n",
       "      <td>8.000000</td>\n",
       "      <td>1.000000</td>\n",
       "      <td>0.000000</td>\n",
       "      <td>0.000000</td>\n",
       "      <td>13.510107</td>\n",
       "      <td>99.885506</td>\n",
       "    </tr>\n",
       "    <tr>\n",
       "      <th>50%</th>\n",
       "      <td>3.823434e+06</td>\n",
       "      <td>2021.000000</td>\n",
       "      <td>6.000000</td>\n",
       "      <td>15.000000</td>\n",
       "      <td>2021.000000</td>\n",
       "      <td>5.000000</td>\n",
       "      <td>16.000000</td>\n",
       "      <td>1.000000</td>\n",
       "      <td>0.000000</td>\n",
       "      <td>0.000000</td>\n",
       "      <td>14.468878</td>\n",
       "      <td>100.555529</td>\n",
       "    </tr>\n",
       "    <tr>\n",
       "      <th>75%</th>\n",
       "      <td>5.830777e+06</td>\n",
       "      <td>2022.000000</td>\n",
       "      <td>10.000000</td>\n",
       "      <td>24.000000</td>\n",
       "      <td>2022.000000</td>\n",
       "      <td>9.000000</td>\n",
       "      <td>24.000000</td>\n",
       "      <td>2.000000</td>\n",
       "      <td>0.000000</td>\n",
       "      <td>1.000000</td>\n",
       "      <td>16.567408</td>\n",
       "      <td>101.292237</td>\n",
       "    </tr>\n",
       "    <tr>\n",
       "      <th>max</th>\n",
       "      <td>7.571316e+06</td>\n",
       "      <td>2022.000000</td>\n",
       "      <td>12.000000</td>\n",
       "      <td>31.000000</td>\n",
       "      <td>2023.000000</td>\n",
       "      <td>12.000000</td>\n",
       "      <td>31.000000</td>\n",
       "      <td>27.000000</td>\n",
       "      <td>13.000000</td>\n",
       "      <td>51.000000</td>\n",
       "      <td>41.549515</td>\n",
       "      <td>105.517239</td>\n",
       "    </tr>\n",
       "  </tbody>\n",
       "</table>\n",
       "</div>"
      ],
      "text/plain": [
       "           acc_code  incident_year  incident_month  incident_day  \\\n",
       "count  8.137600e+04   81376.000000    81376.000000  81376.000000   \n",
       "mean   4.228913e+06    2020.525868        6.468762     15.724870   \n",
       "std    2.128999e+06       1.110495        3.631612      9.044151   \n",
       "min    5.718340e+05    2019.000000        1.000000      1.000000   \n",
       "25%    3.789326e+06    2020.000000        3.000000      8.000000   \n",
       "50%    3.823434e+06    2021.000000        6.000000     15.000000   \n",
       "75%    5.830777e+06    2022.000000       10.000000     24.000000   \n",
       "max    7.571316e+06    2022.000000       12.000000     31.000000   \n",
       "\n",
       "        report_year  report_month    report_day  number_of_vehicles_involved  \\\n",
       "count  81376.000000  81376.000000  81376.000000                 81376.000000   \n",
       "mean    2020.787124      5.854490     16.211438                     1.534826   \n",
       "std        1.151265      3.732134      9.192524                     0.807075   \n",
       "min     2019.000000      1.000000      1.000000                     0.000000   \n",
       "25%     2020.000000      3.000000      8.000000                     1.000000   \n",
       "50%     2021.000000      5.000000     16.000000                     1.000000   \n",
       "75%     2022.000000      9.000000     24.000000                     2.000000   \n",
       "max     2023.000000     12.000000     31.000000                    27.000000   \n",
       "\n",
       "       number_of_fatalities  number_of_injuries      latitude     longitude  \n",
       "count          81376.000000        81376.000000  81376.000000  81376.000000  \n",
       "mean               0.146136            0.813864     14.377542    100.808802  \n",
       "std                0.434604            1.464071      3.065689      1.484859  \n",
       "min                0.000000            0.000000     -0.001108     18.017161  \n",
       "25%                0.000000            0.000000     13.510107     99.885506  \n",
       "50%                0.000000            0.000000     14.468878    100.555529  \n",
       "75%                0.000000            1.000000     16.567408    101.292237  \n",
       "max               13.000000           51.000000     41.549515    105.517239  "
      ]
     },
     "execution_count": 253,
     "metadata": {},
     "output_type": "execute_result"
    }
   ],
   "source": [
    "df.describe()"
   ]
  },
  {
   "cell_type": "markdown",
   "id": "d8bc4766",
   "metadata": {},
   "source": [
    "### Pattern of accidents by month"
   ]
  },
  {
   "cell_type": "code",
   "execution_count": 254,
   "id": "80ba339c",
   "metadata": {},
   "outputs": [
    {
     "data": {
      "image/png": "[encoded data removed]",
      "text/plain": [
       "<Figure size 432x288 with 1 Axes>"
      ]
     },
     "metadata": {
      "needs_background": "light"
     },
     "output_type": "display_data"
    },
    {
     "data": {
      "image/png": "[encoded data removed]",
      "text/plain": [
       "<Figure size 432x288 with 1 Axes>"
      ]
     },
     "metadata": {
      "needs_background": "light"
     },
     "output_type": "display_data"
    },
    {
     "data": {
      "image/png": "[encoded data removed]",
      "text/plain": [
       "<Figure size 432x288 with 1 Axes>"
      ]
     },
     "metadata": {
      "needs_background": "light"
     },
     "output_type": "display_data"
    },
    {
     "data": {
      "image/png": "[encoded data removed]",
      "text/plain": [
       "<Figure size 432x288 with 1 Axes>"
      ]
     },
     "metadata": {
      "needs_background": "light"
     },
     "output_type": "display_data"
    }
   ],
   "source": [
    "#plotting bar chart for count of accidents \n",
    "for i in range(2019, 2023):\n",
    "    data = df[df[\"incident_year\"] == i]['incident_month']\n",
    "    plt.hist(data, bins=12)\n",
    "    \n",
    "    plt.title(str(i) + \" Accidents\")\n",
    "    plt.ylabel(\"Count of Accidents\")\n",
    "    plt.xticks(range(1, 13), ['Jan', 'Feb', 'Mar', 'Apr', 'May', 'Jun', 'Jul', 'Aug', 'Sep', 'Oct', 'Nov', 'Dec'])\n",
    "    \n",
    "    # Add values on top of the bars\n",
    "    for month, count in zip(range(1, 13), data.value_counts().sort_index()):\n",
    "        plt.text(month, count, str(count), ha='center', va='bottom')\n",
    "    \n",
    "    plt.show()"
   ]
  },
  {
   "cell_type": "markdown",
   "id": "fe90f09c",
   "metadata": {},
   "source": [
    "Accidents Generally corresponds to long holidays in thailand especially during Songkran and New Years"
   ]
  },
  {
   "cell_type": "markdown",
   "id": "3967485a",
   "metadata": {},
   "source": [
    "### Top 10 Provinces with the most accidents"
   ]
  },
  {
   "cell_type": "code",
   "execution_count": 255,
   "id": "4b685af6",
   "metadata": {},
   "outputs": [
    {
     "data": {
      "image/png": "[encoded data removed]",
      "text/plain": [
       "<Figure size 432x288 with 1 Axes>"
      ]
     },
     "metadata": {
      "needs_background": "light"
     },
     "output_type": "display_data"
    }
   ],
   "source": [
    "# Extract the top 10 provinces with the highest number of accidents and create a bar plot\n",
    "top_10_provinces = df['province_en'].value_counts().head(10)\n",
    "top_10_provinces.plot(kind='bar')\n",
    "\n",
    "# Add text labels on top of each bar indicating the exact count of accidents\n",
    "for i, count in enumerate(top_10_provinces):\n",
    "    plt.text(i, count + 0.1, str(count), ha='center', va='bottom')\n",
    "\n",
    "plt.xlabel('Province (English Name)')\n",
    "plt.ylabel('Accident Count')\n",
    "plt.title('Top 10 Provinces with the Most Accidents')\n",
    "plt.show()"
   ]
  },
  {
   "cell_type": "markdown",
   "id": "427d34a1",
   "metadata": {},
   "source": [
    "The most accidents happen in Bangkok, which has the highest amount of population per province. Let's normalize population to figure out which province yields the most fatility when population is considered"
   ]
  },
  {
   "cell_type": "markdown",
   "id": "596063c9",
   "metadata": {},
   "source": [
    "### Fatality per 100k by province"
   ]
  },
  {
   "cell_type": "code",
   "execution_count": 260,
   "id": "d885ae48",
   "metadata": {},
   "outputs": [
    {
     "data": {
      "text/html": [
       "<div>\n",
       "<style scoped>\n",
       "    .dataframe tbody tr th:only-of-type {\n",
       "        vertical-align: middle;\n",
       "    }\n",
       "\n",
       "    .dataframe tbody tr th {\n",
       "        vertical-align: top;\n",
       "    }\n",
       "\n",
       "    .dataframe thead th {\n",
       "        text-align: right;\n",
       "    }\n",
       "</style>\n",
       "<table border=\"1\" class=\"dataframe\">\n",
       "  <thead>\n",
       "    <tr style=\"text-align: right;\">\n",
       "      <th></th>\n",
       "      <th>province_en</th>\n",
       "      <th>fatality_rate</th>\n",
       "    </tr>\n",
       "  </thead>\n",
       "  <tbody>\n",
       "    <tr>\n",
       "      <th>7</th>\n",
       "      <td>Chanthaburi</td>\n",
       "      <td>58.245489</td>\n",
       "    </tr>\n",
       "    <tr>\n",
       "      <th>48</th>\n",
       "      <td>Prachuap Khiri Khan</td>\n",
       "      <td>55.194805</td>\n",
       "    </tr>\n",
       "    <tr>\n",
       "      <th>23</th>\n",
       "      <td>Mukdahan</td>\n",
       "      <td>52.893045</td>\n",
       "    </tr>\n",
       "    <tr>\n",
       "      <th>64</th>\n",
       "      <td>Suphan Buri</td>\n",
       "      <td>52.728955</td>\n",
       "    </tr>\n",
       "    <tr>\n",
       "      <th>5</th>\n",
       "      <td>Chai Nat</td>\n",
       "      <td>50.316456</td>\n",
       "    </tr>\n",
       "    <tr>\n",
       "      <th>...</th>\n",
       "      <td>...</td>\n",
       "      <td>...</td>\n",
       "    </tr>\n",
       "    <tr>\n",
       "      <th>46</th>\n",
       "      <td>Phuket</td>\n",
       "      <td>6.849315</td>\n",
       "    </tr>\n",
       "    <tr>\n",
       "      <th>25</th>\n",
       "      <td>Nakhon Pathom</td>\n",
       "      <td>6.615412</td>\n",
       "    </tr>\n",
       "    <tr>\n",
       "      <th>74</th>\n",
       "      <td>Yala</td>\n",
       "      <td>6.208426</td>\n",
       "    </tr>\n",
       "    <tr>\n",
       "      <th>2</th>\n",
       "      <td>Bangkok</td>\n",
       "      <td>1.381122</td>\n",
       "    </tr>\n",
       "    <tr>\n",
       "      <th>77</th>\n",
       "      <td>unknown</td>\n",
       "      <td>0.000000</td>\n",
       "    </tr>\n",
       "  </tbody>\n",
       "</table>\n",
       "<p>78 rows × 2 columns</p>\n",
       "</div>"
      ],
      "text/plain": [
       "            province_en  fatality_rate\n",
       "7           Chanthaburi      58.245489\n",
       "48  Prachuap Khiri Khan      55.194805\n",
       "23             Mukdahan      52.893045\n",
       "64          Suphan Buri      52.728955\n",
       "5              Chai Nat      50.316456\n",
       "..                  ...            ...\n",
       "46               Phuket       6.849315\n",
       "25        Nakhon Pathom       6.615412\n",
       "74                 Yala       6.208426\n",
       "2               Bangkok       1.381122\n",
       "77              unknown       0.000000\n",
       "\n",
       "[78 rows x 2 columns]"
      ]
     },
     "execution_count": 260,
     "metadata": {},
     "output_type": "execute_result"
    }
   ],
   "source": [
    "#get population data from another CSV file\n",
    "dfp = pd.read_csv('TH Population.csv')\n",
    "dfp['Population'] = dfp['Population'].str.replace(',', '').astype('int64')\n",
    "dfp = dfp.drop(columns=['Name', 'Status']).reset_index(drop=True)\n",
    "\n",
    "#left joining road accident data with province population data \n",
    "#so all rows from road accident data are retained, and matching rows from population data are added\n",
    "df2 = pd.merge(df, dfp, left_on='province_th', right_on='Native', how='left')\n",
    "\n",
    "#calculating death per 100k of population\n",
    "df2['fatality_rate'] = (df2['number_of_fatalities'] / df2['Population']) * 100000\n",
    "\n",
    "#groups the DataFrame by province, sums the fatality rates for each province\n",
    "fatality_rate_by_province = df2.groupby('province_en')['fatality_rate'].sum()\n",
    "fatality_rate_by_province = fatality_rate_by_province.reset_index()\n",
    "fatality_rate_by_province = fatality_rate_by_province.sort_values(by=['fatality_rate'],ascending=False)\n",
    "fatality_rate_by_province"
   ]
  },
  {
   "cell_type": "markdown",
   "id": "9ada79b5",
   "metadata": {},
   "source": [
    "When population is put into consideration, Chantaburi is the most dangerous place to drive at, having 58.25 fatalities per 100k individuals, while Bangkok is now the lowest having 1.38 fatalities per 100k individuals. "
   ]
  },
  {
   "cell_type": "markdown",
   "id": "e7e87169",
   "metadata": {},
   "source": [
    "###  Average deaths  per accident type"
   ]
  },
  {
   "cell_type": "code",
   "execution_count": 257,
   "id": "73d53a92",
   "metadata": {},
   "outputs": [
    {
     "data": {
      "image/png": "[encoded data removed]",
      "text/plain": [
       "<Figure size 432x288 with 1 Axes>"
      ]
     },
     "metadata": {
      "needs_background": "light"
     },
     "output_type": "display_data"
    }
   ],
   "source": [
    "# Extract relevant columns from the original DataFrame\n",
    "df_fatality = df[['accident_type', 'number_of_fatalities']].copy()\n",
    "\n",
    "# Group by accident type, summing up total fatalities and counting the number of accidents for each type\n",
    "fatality_per_accident = df_fatality.groupby('accident_type').agg({\n",
    "    'number_of_fatalities': 'sum',\n",
    "    'accident_type': 'count'\n",
    "})\n",
    "\n",
    "# Rename columns for clarity\n",
    "fatality_per_accident.columns = ['Total Deaths', 'Accident Count']\n",
    "\n",
    "# Calculate normalized death rate (deaths per accident) and keep only the relevant column\n",
    "fatality_per_accident['Normalized Death'] = (fatality_per_accident['Total Deaths'] / fatality_per_accident['Accident Count'])\n",
    "fatality_per_accident = fatality_per_accident.drop(columns=['Total Deaths', 'Accident Count'])\n",
    "\n",
    "# Sort the DataFrame by normalized death rate in descending order\n",
    "fatality_per_accident = fatality_per_accident.sort_values(by='Normalized Death', ascending=False)\n",
    "\n",
    "# Create a bar plot to visualize the normalized death rate for each accident type\n",
    "ax = fatality_per_accident.plot(kind='bar', legend=False)\n",
    "\n",
    "# Add values on top of each bar\n",
    "for i, value in enumerate(fatality_per_accident['Normalized Death']):\n",
    "    plt.text(i, value + 0.1, f'{value:.2f}', ha='center', va='bottom')\n",
    "\n",
    "# Set labels and title\n",
    "plt.xlabel('Accident Type')\n",
    "plt.ylabel('Normalized Death Rate')\n",
    "plt.title('Normalized Death Rate by Accident Type')\n",
    "\n",
    "# Show the plot\n",
    "plt.show()"
   ]
  },
  {
   "cell_type": "markdown",
   "id": "681e5e86",
   "metadata": {},
   "source": [
    "This graph indicates collision during overtaking is the most dangerous type of accident, responsible for 0.7 deaths per accidents while rollover/fallen on straight road is responsible for only 0.08 deaths per accident."
   ]
  },
  {
   "cell_type": "markdown",
   "id": "361d45f3",
   "metadata": {},
   "source": [
    "### Average death per Vehicle Type\n"
   ]
  },
  {
   "cell_type": "code",
   "execution_count": 258,
   "id": "554a1bd1",
   "metadata": {},
   "outputs": [
    {
     "data": {
      "image/png": "[encoded data removed]",
      "text/plain": [
       "<Figure size 432x288 with 1 Axes>"
      ]
     },
     "metadata": {
      "needs_background": "light"
     },
     "output_type": "display_data"
    }
   ],
   "source": [
    "# Extract relevant columns from the original DataFrame\n",
    "df_vehicle = df[['vehicle_type', 'number_of_fatalities']].copy()\n",
    "\n",
    "# Group by vehicle type, summing up total fatalities and counting the number of accidents for each type\n",
    "df_vehicle = df_vehicle.groupby('vehicle_type').agg({'number_of_fatalities': 'sum', 'vehicle_type': 'count'})\n",
    "\n",
    "# Rename columns for clarity\n",
    "df_vehicle.columns = ['Total Deaths', 'Vehicle Type Count']\n",
    "\n",
    "# Calculate normalized death rate (deaths per vehicle) and keep only the relevant column\n",
    "df_vehicle['Normalized Death'] = (df_vehicle['Total Deaths']/df_vehicle['Vehicle Type Count'])\n",
    "df_vehicle = df_vehicle.drop(columns = ['Total Deaths','Vehicle Type Count'])\n",
    "\n",
    "# Sort the DataFrame by normalized death rate in descending order\n",
    "df_vehicle = df_vehicle.sort_values(by='Normalized Death', ascending=False)\n",
    "\n",
    "# Create a bar plot to visualize the normalized death rate for each vehicle type\n",
    "ax = df_vehicle.head(20).plot(kind='bar', legend=False)\n",
    "\n",
    "# Add values on top of each bar\n",
    "for i, value in enumerate(df_vehicle.head(20)['Normalized Death']):\n",
    "    plt.text(i, value + 0.1, f'{value:.2f}', ha='center', va='bottom')\n",
    "\n",
    "# Set labels and title\n",
    "plt.xlabel('Vehicle Type')\n",
    "plt.ylabel('Normalized Death Rate')\n",
    "plt.title('Top 20 Vehicle Types by Normalized Death Rate')\n",
    "\n",
    "plt.show()\n"
   ]
  },
  {
   "cell_type": "markdown",
   "id": "895aa1f2",
   "metadata": {},
   "source": [
    "Pedestrians have the highest death rate at 0.73 deaths per accident while the lowest is 4 wheel pickup truck at 0.09 deaths per accident"
   ]
  },
  {
   "cell_type": "markdown",
   "id": "1ea92231",
   "metadata": {},
   "source": [
    "### Agency Response Time"
   ]
  },
  {
   "cell_type": "code",
   "execution_count": 267,
   "id": "648eaaa0",
   "metadata": {
    "scrolled": true
   },
   "outputs": [
    {
     "data": {
      "text/plain": [
       "agency\n",
       "department of highways              1440.942794\n",
       "department of rural roads            376.878232\n",
       "expressway authority of thailand     852.049605\n",
       "Name: response_time, dtype: float64"
      ]
     },
     "execution_count": 267,
     "metadata": {},
     "output_type": "execute_result"
    }
   ],
   "source": [
    "#Create new dataframe for agency and response time\n",
    "df['response_time'] = (df.report_datetime-df.incident_datetime).astype('timedelta64[h]')\n",
    "df_response = df[['agency', 'response_time']].copy()\n",
    "\n",
    "# Calculate IQR\n",
    "Q1 = df_response['response_time'].quantile(0.25)\n",
    "Q3 = df_response['response_time'].quantile(0.75)\n",
    "IQR = Q3 - Q1\n",
    "\n",
    "# Define limits for outliers\n",
    "lower_limit = Q1 - 1.5 * IQR\n",
    "upper_limit = Q3 + 1.5 * IQR\n",
    "\n",
    "# Remove outliers\n",
    "df_response = df_response[(df_response['response_time'] >= lower_limit) & (df_response['response_time'] <= upper_limit)]\n",
    "\n",
    "#Group rows by agency and find average\n",
    "df_response = df_response.groupby('agency')['response_time'].mean()\n",
    "df_response.columns = ['agency', 'average_response_time']\n",
    "df_response.head()"
   ]
  },
  {
   "cell_type": "markdown",
   "id": "61317f57",
   "metadata": {},
   "source": [
    "Let's move on to making this dataset more interactive and find further insights through PowerBI. "
   ]
  }
 ],
 "metadata": {
  "kernelspec": {
   "display_name": "Python 3 (ipykernel)",
   "language": "python",
   "name": "python3"
  },
  "language_info": {
   "codemirror_mode": {
    "name": "ipython",
    "version": 3
   },
   "file_extension": ".py",
   "mimetype": "text/x-python",
   "name": "python",
   "nbconvert_exporter": "python",
   "pygments_lexer": "ipython3",
   "version": "3.9.7"
  }
 },
 "nbformat": 4,
 "nbformat_minor": 5
}
