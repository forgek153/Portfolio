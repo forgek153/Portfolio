{
 "cells": [
  {
   "cell_type": "markdown",
   "id": "6562a932",
   "metadata": {},
   "source": [
    "# Importing Libraries"
   ]
  },
  {
   "cell_type": "code",
   "execution_count": 30,
   "id": "6964d8e3",
   "metadata": {},
   "outputs": [],
   "source": [
    "import math\n",
    "import pandas as pd\n",
    "import matplotlib.pyplot as plt\n",
    "import seaborn as sns"
   ]
  },
  {
   "cell_type": "markdown",
   "id": "56a905db",
   "metadata": {},
   "source": [
    "# Loading Data"
   ]
  },
  {
   "cell_type": "code",
   "execution_count": 2,
   "id": "c6b8ffa2",
   "metadata": {},
   "outputs": [],
   "source": [
    "df = pd.read_csv('Cyclistic.csv',low_memory=False)"
   ]
  },
  {
   "cell_type": "code",
   "execution_count": 3,
   "id": "45783018",
   "metadata": {},
   "outputs": [
    {
     "data": {
      "text/html": [
       "<div>\n",
       "<style scoped>\n",
       "    .dataframe tbody tr th:only-of-type {\n",
       "        vertical-align: middle;\n",
       "    }\n",
       "\n",
       "    .dataframe tbody tr th {\n",
       "        vertical-align: top;\n",
       "    }\n",
       "\n",
       "    .dataframe thead th {\n",
       "        text-align: right;\n",
       "    }\n",
       "</style>\n",
       "<table border=\"1\" class=\"dataframe\">\n",
       "  <thead>\n",
       "    <tr style=\"text-align: right;\">\n",
       "      <th></th>\n",
       "      <th>ride_id</th>\n",
       "      <th>rideable_type</th>\n",
       "      <th>start_time</th>\n",
       "      <th>end_time</th>\n",
       "      <th>start_station_name</th>\n",
       "      <th>end_station_name</th>\n",
       "      <th>end_station_id</th>\n",
       "      <th>start_lat</th>\n",
       "      <th>start_lng</th>\n",
       "      <th>end_lat</th>\n",
       "      <th>end_lng</th>\n",
       "      <th>member_casual</th>\n",
       "    </tr>\n",
       "  </thead>\n",
       "  <tbody>\n",
       "    <tr>\n",
       "      <th>0</th>\n",
       "      <td>B1B5FB38739FBD7B</td>\n",
       "      <td>docked_bike</td>\n",
       "      <td>2021-06-13 16:29:55</td>\n",
       "      <td>2021-06-13 17:39:31</td>\n",
       "      <td>Lake Shore Dr &amp; Diversey Pkwy</td>\n",
       "      <td>Lake Shore Dr &amp; Diversey Pkwy</td>\n",
       "      <td>TA1309000039</td>\n",
       "      <td>41.932588</td>\n",
       "      <td>-87.636427</td>\n",
       "      <td>41.932588</td>\n",
       "      <td>-87.636427</td>\n",
       "      <td>casual</td>\n",
       "    </tr>\n",
       "    <tr>\n",
       "      <th>1</th>\n",
       "      <td>0A005D2F89E8FAEF</td>\n",
       "      <td>docked_bike</td>\n",
       "      <td>2021-11-07 14:24:15</td>\n",
       "      <td>2021-11-07 14:44:58</td>\n",
       "      <td>Aberdeen St &amp; Monroe St</td>\n",
       "      <td>Blue Island Ave &amp; 18th St</td>\n",
       "      <td>13135</td>\n",
       "      <td>41.880419</td>\n",
       "      <td>-87.655519</td>\n",
       "      <td>41.857556</td>\n",
       "      <td>-87.661535</td>\n",
       "      <td>casual</td>\n",
       "    </tr>\n",
       "    <tr>\n",
       "      <th>2</th>\n",
       "      <td>DEED405E369DC554</td>\n",
       "      <td>docked_bike</td>\n",
       "      <td>2021-09-05 10:06:04</td>\n",
       "      <td>2021-09-05 10:09:25</td>\n",
       "      <td>State St &amp; Kinzie St</td>\n",
       "      <td>State St &amp; Kinzie St</td>\n",
       "      <td>13050</td>\n",
       "      <td>41.889187</td>\n",
       "      <td>-87.627754</td>\n",
       "      <td>41.889187</td>\n",
       "      <td>-87.627754</td>\n",
       "      <td>casual</td>\n",
       "    </tr>\n",
       "    <tr>\n",
       "      <th>3</th>\n",
       "      <td>1ED57CA08E45D3F3</td>\n",
       "      <td>docked_bike</td>\n",
       "      <td>2021-05-02 14:31:34</td>\n",
       "      <td>2021-05-02 15:25:31</td>\n",
       "      <td>Field Museum</td>\n",
       "      <td>Field Museum</td>\n",
       "      <td>13029</td>\n",
       "      <td>41.865312</td>\n",
       "      <td>-87.617867</td>\n",
       "      <td>41.865312</td>\n",
       "      <td>-87.617867</td>\n",
       "      <td>casual</td>\n",
       "    </tr>\n",
       "    <tr>\n",
       "      <th>4</th>\n",
       "      <td>34DA78407D27793C</td>\n",
       "      <td>docked_bike</td>\n",
       "      <td>2021-08-15 12:02:46</td>\n",
       "      <td>2021-08-15 13:44:05</td>\n",
       "      <td>Michigan Ave &amp; 14th St</td>\n",
       "      <td>Michigan Ave &amp; 14th St</td>\n",
       "      <td>TA1307000124</td>\n",
       "      <td>41.864059</td>\n",
       "      <td>-87.623727</td>\n",
       "      <td>41.864059</td>\n",
       "      <td>-87.623727</td>\n",
       "      <td>casual</td>\n",
       "    </tr>\n",
       "  </tbody>\n",
       "</table>\n",
       "</div>"
      ],
      "text/plain": [
       "            ride_id rideable_type           start_time             end_time  \\\n",
       "0  B1B5FB38739FBD7B   docked_bike  2021-06-13 16:29:55  2021-06-13 17:39:31   \n",
       "1  0A005D2F89E8FAEF   docked_bike  2021-11-07 14:24:15  2021-11-07 14:44:58   \n",
       "2  DEED405E369DC554   docked_bike  2021-09-05 10:06:04  2021-09-05 10:09:25   \n",
       "3  1ED57CA08E45D3F3   docked_bike  2021-05-02 14:31:34  2021-05-02 15:25:31   \n",
       "4  34DA78407D27793C   docked_bike  2021-08-15 12:02:46  2021-08-15 13:44:05   \n",
       "\n",
       "              start_station_name               end_station_name  \\\n",
       "0  Lake Shore Dr & Diversey Pkwy  Lake Shore Dr & Diversey Pkwy   \n",
       "1        Aberdeen St & Monroe St      Blue Island Ave & 18th St   \n",
       "2           State St & Kinzie St           State St & Kinzie St   \n",
       "3                   Field Museum                   Field Museum   \n",
       "4         Michigan Ave & 14th St         Michigan Ave & 14th St   \n",
       "\n",
       "  end_station_id  start_lat  start_lng    end_lat    end_lng member_casual  \n",
       "0   TA1309000039  41.932588 -87.636427  41.932588 -87.636427        casual  \n",
       "1          13135  41.880419 -87.655519  41.857556 -87.661535        casual  \n",
       "2          13050  41.889187 -87.627754  41.889187 -87.627754        casual  \n",
       "3          13029  41.865312 -87.617867  41.865312 -87.617867        casual  \n",
       "4   TA1307000124  41.864059 -87.623727  41.864059 -87.623727        casual  "
      ]
     },
     "execution_count": 3,
     "metadata": {},
     "output_type": "execute_result"
    }
   ],
   "source": [
    "df.head()"
   ]
  },
  {
   "cell_type": "markdown",
   "id": "270afc9d",
   "metadata": {},
   "source": [
    "# Data Cleaning"
   ]
  },
  {
   "cell_type": "markdown",
   "id": "d66e2b0a",
   "metadata": {},
   "source": [
    "## DataTypes"
   ]
  },
  {
   "cell_type": "code",
   "execution_count": 4,
   "id": "f2e8f454",
   "metadata": {
    "scrolled": true
   },
   "outputs": [
    {
     "name": "stdout",
     "output_type": "stream",
     "text": [
      "<class 'pandas.core.frame.DataFrame'>\n",
      "RangeIndex: 5595063 entries, 0 to 5595062\n",
      "Data columns (total 12 columns):\n",
      " #   Column              Dtype  \n",
      "---  ------              -----  \n",
      " 0   ride_id             object \n",
      " 1   rideable_type       object \n",
      " 2   start_time          object \n",
      " 3   end_time            object \n",
      " 4   start_station_name  object \n",
      " 5   end_station_name    object \n",
      " 6   end_station_id      object \n",
      " 7   start_lat           float64\n",
      " 8   start_lng           float64\n",
      " 9   end_lat             float64\n",
      " 10  end_lng             float64\n",
      " 11  member_casual       object \n",
      "dtypes: float64(4), object(8)\n",
      "memory usage: 512.2+ MB\n"
     ]
    }
   ],
   "source": [
    "df.info()"
   ]
  },
  {
   "cell_type": "markdown",
   "id": "bb41f196",
   "metadata": {},
   "source": [
    "We need to change the datatypes for these features to their according datatypes."
   ]
  },
  {
   "cell_type": "code",
   "execution_count": 5,
   "id": "ed34f82b",
   "metadata": {},
   "outputs": [],
   "source": [
    "df['ride_id'] = df['ride_id'].astype('object')\n",
    "df['rideable_type'] = df['rideable_type'].astype('category')\n",
    "df['start_time'] = pd.to_datetime(df['start_time'])\n",
    "df['end_time'] = pd.to_datetime(df['end_time'])\n",
    "df['start_station_name'] = df['start_station_name'].astype('category')\n",
    "df['end_station_name'] = df['end_station_name'].astype('category')\n",
    "df['end_station_id'] = df['end_station_id'].astype('object') \n",
    "df['start_lat'] = df['start_lat'].astype('float64')\n",
    "df['start_lng'] = df['start_lng'].astype('float64')\n",
    "df['end_lat'] = df['end_lat'].astype('float64')\n",
    "df['end_lng'] = df['end_lng'].astype('float64')\n",
    "df['member_casual'] = df['member_casual'].astype('category')"
   ]
  },
  {
   "cell_type": "code",
   "execution_count": 6,
   "id": "5c3d9dab",
   "metadata": {
    "scrolled": false
   },
   "outputs": [
    {
     "data": {
      "text/plain": [
       "ride_id                       object\n",
       "rideable_type               category\n",
       "start_time            datetime64[ns]\n",
       "end_time              datetime64[ns]\n",
       "start_station_name          category\n",
       "end_station_name            category\n",
       "end_station_id                object\n",
       "start_lat                    float64\n",
       "start_lng                    float64\n",
       "end_lat                      float64\n",
       "end_lng                      float64\n",
       "member_casual               category\n",
       "dtype: object"
      ]
     },
     "execution_count": 6,
     "metadata": {},
     "output_type": "execute_result"
    }
   ],
   "source": [
    "df.dtypes"
   ]
  },
  {
   "cell_type": "markdown",
   "id": "99b79103",
   "metadata": {},
   "source": [
    "## Null Values"
   ]
  },
  {
   "cell_type": "markdown",
   "id": "9b68038c",
   "metadata": {},
   "source": [
    "### Finding percentage of null values per feature"
   ]
  },
  {
   "cell_type": "code",
   "execution_count": 7,
   "id": "47bf28a0",
   "metadata": {
    "scrolled": true
   },
   "outputs": [
    {
     "data": {
      "text/plain": [
       "ride_id                0.00\n",
       "rideable_type          0.00\n",
       "start_time             0.00\n",
       "end_time               0.00\n",
       "start_station_name    12.35\n",
       "end_station_name      13.21\n",
       "end_station_id        13.21\n",
       "start_lat              0.00\n",
       "start_lng              0.00\n",
       "end_lat                0.09\n",
       "end_lng                0.09\n",
       "member_casual          0.00\n",
       "dtype: float64"
      ]
     },
     "execution_count": 7,
     "metadata": {},
     "output_type": "execute_result"
    }
   ],
   "source": [
    "round(df.isnull().sum()/len(df)*100,2)"
   ]
  },
  {
   "cell_type": "code",
   "execution_count": 8,
   "id": "9c9f7ddd",
   "metadata": {},
   "outputs": [],
   "source": [
    "df.dropna(inplace = True)"
   ]
  },
  {
   "cell_type": "code",
   "execution_count": 9,
   "id": "ab022715",
   "metadata": {
    "scrolled": true
   },
   "outputs": [
    {
     "data": {
      "text/plain": [
       "(4588302, 12)"
      ]
     },
     "execution_count": 9,
     "metadata": {},
     "output_type": "execute_result"
    }
   ],
   "source": [
    "df.shape"
   ]
  },
  {
   "cell_type": "markdown",
   "id": "bbfb039e",
   "metadata": {},
   "source": [
    "### Remove Duplicates"
   ]
  },
  {
   "cell_type": "code",
   "execution_count": 10,
   "id": "8926501b",
   "metadata": {},
   "outputs": [],
   "source": [
    "df = df.drop_duplicates()"
   ]
  },
  {
   "cell_type": "code",
   "execution_count": 11,
   "id": "5cf9214f",
   "metadata": {},
   "outputs": [
    {
     "data": {
      "text/plain": [
       "(4588302, 12)"
      ]
     },
     "execution_count": 11,
     "metadata": {},
     "output_type": "execute_result"
    }
   ],
   "source": [
    "df.shape"
   ]
  },
  {
   "cell_type": "markdown",
   "id": "8dc54ca9",
   "metadata": {},
   "source": [
    "# Feature Engineering"
   ]
  },
  {
   "cell_type": "markdown",
   "id": "13f12e2d",
   "metadata": {},
   "source": [
    "Feature engineering is a critical step in the data preprocessing phase of machine learning and data science projects. It involves creating new features from existing data to improve the performance of machine learning models and aids in further analysis."
   ]
  },
  {
   "cell_type": "markdown",
   "id": "284af92a",
   "metadata": {},
   "source": [
    "###  Features"
   ]
  },
  {
   "cell_type": "code",
   "execution_count": 12,
   "id": "83d8441a",
   "metadata": {},
   "outputs": [],
   "source": [
    "# Distance Feature Function\n",
    "def haversine_distance(lat1, lon1, lat2, lon2):\n",
    "    R = 6371\n",
    "    dLat = math.radians(lat2 - lat1)\n",
    "    dLon = math.radians(lon2 - lon1)\n",
    "    a = math.sin(dLat/2) * math.sin(dLat/2) + math.cos(math.radians(lat1)) * \\\n",
    "        math.cos(math.radians(lat2)) * math.sin(dLon/2) * math.sin(dLon/2)\n",
    "    c = 2 * math.atan2(math.sqrt(a), math.sqrt(1-a))\n",
    "    distance = R * c\n",
    "    return distance\n",
    "\n",
    "# Time of Day Feature Function\n",
    "def get_time_of_day(hour):\n",
    "    if 5 <= hour < 12:\n",
    "        return 'Morning'\n",
    "    elif 12 <= hour < 17:\n",
    "        return 'Afternoon'\n",
    "    elif 17 <= hour < 21:\n",
    "        return 'Evening'\n",
    "    else:\n",
    "        return 'Night'\n",
    "\n",
    "# Season Feature Function\n",
    "def get_season(month):\n",
    "    if 3 <= month <= 5:\n",
    "        return 'Spring'\n",
    "    elif 6 <= month <= 8:\n",
    "        return 'Summer'\n",
    "    elif 9 <= month <= 11:\n",
    "        return 'Fall'\n",
    "    else:\n",
    "        return 'Winter'"
   ]
  },
  {
   "cell_type": "code",
   "execution_count": 13,
   "id": "1f7edbcb",
   "metadata": {},
   "outputs": [],
   "source": [
    "# Duration feature\n",
    "df['duration_minutes'] = (df['end_time'] - df['start_time']).dt.total_seconds() / 60\n",
    "\n",
    "# Day of week feature\n",
    "df['day_of_week'] = df['start_time'].dt.day_name()\n",
    "\n",
    "# Time of day feature\n",
    "df['time_of_day'] = df['start_time'].dt.hour.apply(get_time_of_day)\n",
    "\n",
    "# Month feature\n",
    "df['month'] = df['start_time'].dt.month\n",
    "df['season'] = df['month'].apply(get_season)\n",
    "\n",
    "#  Distance Feature \n",
    "df['distance_km'] = df.apply(\n",
    "    lambda row: haversine_distance(row['start_lat'], row['start_lng'], row['end_lat'], row['end_lng']), axis=1\n",
    ")"
   ]
  },
  {
   "cell_type": "markdown",
   "id": "73b84f1b",
   "metadata": {},
   "source": [
    "### Remove Unused Columns"
   ]
  },
  {
   "cell_type": "code",
   "execution_count": 14,
   "id": "7ae9de87",
   "metadata": {},
   "outputs": [],
   "source": [
    "cols_remove = ['start_lat','start_lng','end_lat','end_lng','start_station_name', 'end_station_name', 'end_station_id']\n",
    "df.drop(columns = cols_remove,inplace= True)"
   ]
  },
  {
   "cell_type": "code",
   "execution_count": 15,
   "id": "e3125f9b",
   "metadata": {
    "scrolled": true
   },
   "outputs": [
    {
     "data": {
      "text/plain": [
       "Index(['ride_id', 'rideable_type', 'start_time', 'end_time', 'member_casual',\n",
       "       'duration_minutes', 'day_of_week', 'time_of_day', 'month', 'season',\n",
       "       'distance_km'],\n",
       "      dtype='object')"
      ]
     },
     "execution_count": 15,
     "metadata": {},
     "output_type": "execute_result"
    }
   ],
   "source": [
    "df.columns"
   ]
  },
  {
   "cell_type": "markdown",
   "id": "7b57237e",
   "metadata": {},
   "source": [
    "## Removing outliers"
   ]
  },
  {
   "cell_type": "code",
   "execution_count": 16,
   "id": "a478b65a",
   "metadata": {},
   "outputs": [],
   "source": [
    "# Using 1.5*IQR Method\n",
    "Q1_duration = df['duration_minutes'].quantile(0.25)\n",
    "Q3_duration = df['duration_minutes'].quantile(0.75)\n",
    "IQR_duration = Q3_duration - Q1_duration\n",
    "\n",
    "Q1_distance = df['distance_km'].quantile(0.25)\n",
    "Q3_distance = df['distance_km'].quantile(0.75)\n",
    "IQR_distance = Q3_distance - Q1_distance\n",
    "\n",
    "lower_bound_duration = Q1_duration - 1.5 * IQR_duration\n",
    "upper_bound_duration = Q3_duration + 1.5 * IQR_duration\n",
    "\n",
    "lower_bound_distance = Q1_distance - 1.5 * IQR_distance\n",
    "upper_bound_distance = Q3_distance + 1.5 * IQR_distance\n",
    "\n",
    "df = df[(df['duration_minutes'] >= lower_bound_duration) & \n",
    "                     (df['duration_minutes'] <= upper_bound_duration) &\n",
    "                     (df['distance_km'] >= lower_bound_distance) & \n",
    "                     (df['distance_km'] <= upper_bound_distance)]\n"
   ]
  },
  {
   "cell_type": "markdown",
   "id": "4127fd4b",
   "metadata": {},
   "source": [
    "## Remove Negative Values"
   ]
  },
  {
   "cell_type": "code",
   "execution_count": 17,
   "id": "70c068a7",
   "metadata": {},
   "outputs": [
    {
     "name": "stdout",
     "output_type": "stream",
     "text": [
      "-7.05\n",
      "0.0\n"
     ]
    }
   ],
   "source": [
    "#Check to see if negative values exist in the feature\n",
    "print(df['duration_minutes'].unique().min())\n",
    "print(df['distance_km'].unique().min())"
   ]
  },
  {
   "cell_type": "code",
   "execution_count": 18,
   "id": "ae1fa30f",
   "metadata": {},
   "outputs": [],
   "source": [
    "df = df[df['duration_minutes'] > 0]"
   ]
  },
  {
   "cell_type": "markdown",
   "id": "1128b078",
   "metadata": {},
   "source": [
    "# Data Exploration"
   ]
  },
  {
   "cell_type": "code",
   "execution_count": 19,
   "id": "a08f1bf5",
   "metadata": {},
   "outputs": [
    {
     "data": {
      "text/html": [
       "<div>\n",
       "<style scoped>\n",
       "    .dataframe tbody tr th:only-of-type {\n",
       "        vertical-align: middle;\n",
       "    }\n",
       "\n",
       "    .dataframe tbody tr th {\n",
       "        vertical-align: top;\n",
       "    }\n",
       "\n",
       "    .dataframe thead th {\n",
       "        text-align: right;\n",
       "    }\n",
       "</style>\n",
       "<table border=\"1\" class=\"dataframe\">\n",
       "  <thead>\n",
       "    <tr style=\"text-align: right;\">\n",
       "      <th></th>\n",
       "      <th>ride_id</th>\n",
       "      <th>rideable_type</th>\n",
       "      <th>start_time</th>\n",
       "      <th>end_time</th>\n",
       "      <th>member_casual</th>\n",
       "      <th>duration_minutes</th>\n",
       "      <th>day_of_week</th>\n",
       "      <th>time_of_day</th>\n",
       "      <th>month</th>\n",
       "      <th>season</th>\n",
       "      <th>distance_km</th>\n",
       "    </tr>\n",
       "  </thead>\n",
       "  <tbody>\n",
       "    <tr>\n",
       "      <th>1</th>\n",
       "      <td>0A005D2F89E8FAEF</td>\n",
       "      <td>docked_bike</td>\n",
       "      <td>2021-11-07 14:24:15</td>\n",
       "      <td>2021-11-07 14:44:58</td>\n",
       "      <td>casual</td>\n",
       "      <td>20.716667</td>\n",
       "      <td>Sunday</td>\n",
       "      <td>Afternoon</td>\n",
       "      <td>11</td>\n",
       "      <td>Fall</td>\n",
       "      <td>2.590595</td>\n",
       "    </tr>\n",
       "    <tr>\n",
       "      <th>2</th>\n",
       "      <td>DEED405E369DC554</td>\n",
       "      <td>docked_bike</td>\n",
       "      <td>2021-09-05 10:06:04</td>\n",
       "      <td>2021-09-05 10:09:25</td>\n",
       "      <td>casual</td>\n",
       "      <td>3.350000</td>\n",
       "      <td>Sunday</td>\n",
       "      <td>Morning</td>\n",
       "      <td>9</td>\n",
       "      <td>Fall</td>\n",
       "      <td>0.000000</td>\n",
       "    </tr>\n",
       "    <tr>\n",
       "      <th>6</th>\n",
       "      <td>70C632336029DEFC</td>\n",
       "      <td>docked_bike</td>\n",
       "      <td>2021-03-28 17:32:20</td>\n",
       "      <td>2021-03-28 17:46:50</td>\n",
       "      <td>casual</td>\n",
       "      <td>14.500000</td>\n",
       "      <td>Sunday</td>\n",
       "      <td>Evening</td>\n",
       "      <td>3</td>\n",
       "      <td>Spring</td>\n",
       "      <td>1.494597</td>\n",
       "    </tr>\n",
       "    <tr>\n",
       "      <th>8</th>\n",
       "      <td>F78959999A1A4877</td>\n",
       "      <td>docked_bike</td>\n",
       "      <td>2021-05-16 17:33:17</td>\n",
       "      <td>2021-05-16 17:41:04</td>\n",
       "      <td>casual</td>\n",
       "      <td>7.783333</td>\n",
       "      <td>Sunday</td>\n",
       "      <td>Evening</td>\n",
       "      <td>5</td>\n",
       "      <td>Spring</td>\n",
       "      <td>1.011226</td>\n",
       "    </tr>\n",
       "    <tr>\n",
       "      <th>12</th>\n",
       "      <td>346AF575A281267B</td>\n",
       "      <td>docked_bike</td>\n",
       "      <td>2021-05-30 14:15:24</td>\n",
       "      <td>2021-05-30 14:26:35</td>\n",
       "      <td>casual</td>\n",
       "      <td>11.183333</td>\n",
       "      <td>Sunday</td>\n",
       "      <td>Afternoon</td>\n",
       "      <td>5</td>\n",
       "      <td>Spring</td>\n",
       "      <td>0.534562</td>\n",
       "    </tr>\n",
       "  </tbody>\n",
       "</table>\n",
       "</div>"
      ],
      "text/plain": [
       "             ride_id rideable_type          start_time            end_time  \\\n",
       "1   0A005D2F89E8FAEF   docked_bike 2021-11-07 14:24:15 2021-11-07 14:44:58   \n",
       "2   DEED405E369DC554   docked_bike 2021-09-05 10:06:04 2021-09-05 10:09:25   \n",
       "6   70C632336029DEFC   docked_bike 2021-03-28 17:32:20 2021-03-28 17:46:50   \n",
       "8   F78959999A1A4877   docked_bike 2021-05-16 17:33:17 2021-05-16 17:41:04   \n",
       "12  346AF575A281267B   docked_bike 2021-05-30 14:15:24 2021-05-30 14:26:35   \n",
       "\n",
       "   member_casual  duration_minutes day_of_week time_of_day  month  season  \\\n",
       "1         casual         20.716667      Sunday   Afternoon     11    Fall   \n",
       "2         casual          3.350000      Sunday     Morning      9    Fall   \n",
       "6         casual         14.500000      Sunday     Evening      3  Spring   \n",
       "8         casual          7.783333      Sunday     Evening      5  Spring   \n",
       "12        casual         11.183333      Sunday   Afternoon      5  Spring   \n",
       "\n",
       "    distance_km  \n",
       "1      2.590595  \n",
       "2      0.000000  \n",
       "6      1.494597  \n",
       "8      1.011226  \n",
       "12     0.534562  "
      ]
     },
     "execution_count": 19,
     "metadata": {},
     "output_type": "execute_result"
    }
   ],
   "source": [
    "df.head()"
   ]
  },
  {
   "cell_type": "code",
   "execution_count": 20,
   "id": "8ba982f0",
   "metadata": {
    "scrolled": false
   },
   "outputs": [
    {
     "data": {
      "text/plain": [
       "classic_bike     72.26\n",
       "electric_bike    22.64\n",
       "docked_bike       5.09\n",
       "Name: rideable_type, dtype: float64"
      ]
     },
     "execution_count": 20,
     "metadata": {},
     "output_type": "execute_result"
    }
   ],
   "source": [
    "round(df['rideable_type'].value_counts()/len(df)*100,2)"
   ]
  },
  {
   "cell_type": "markdown",
   "id": "22c13f42",
   "metadata": {},
   "source": [
    "Customers use the service with this distribution: \n",
    "classic bike 72% ,electric bike 23%, and docked bike 5%"
   ]
  },
  {
   "cell_type": "code",
   "execution_count": 21,
   "id": "11d9793e",
   "metadata": {
    "scrolled": true
   },
   "outputs": [
    {
     "data": {
      "text/plain": [
       "member    58.673174\n",
       "casual    41.326826\n",
       "Name: member_casual, dtype: float64"
      ]
     },
     "execution_count": 21,
     "metadata": {},
     "output_type": "execute_result"
    }
   ],
   "source": [
    "df['member_casual'].value_counts(1)*100"
   ]
  },
  {
   "cell_type": "markdown",
   "id": "0248599b",
   "metadata": {},
   "source": [
    "58% of the service is used by members while 41% are casual users."
   ]
  },
  {
   "cell_type": "code",
   "execution_count": 22,
   "id": "0575b82d",
   "metadata": {},
   "outputs": [
    {
     "data": {
      "text/html": [
       "<div>\n",
       "<style scoped>\n",
       "    .dataframe tbody tr th:only-of-type {\n",
       "        vertical-align: middle;\n",
       "    }\n",
       "\n",
       "    .dataframe tbody tr th {\n",
       "        vertical-align: top;\n",
       "    }\n",
       "\n",
       "    .dataframe thead th {\n",
       "        text-align: right;\n",
       "    }\n",
       "</style>\n",
       "<table border=\"1\" class=\"dataframe\">\n",
       "  <thead>\n",
       "    <tr style=\"text-align: right;\">\n",
       "      <th></th>\n",
       "      <th>duration_minutes</th>\n",
       "      <th>distance_km</th>\n",
       "    </tr>\n",
       "  </thead>\n",
       "  <tbody>\n",
       "    <tr>\n",
       "      <th>count</th>\n",
       "      <td>4061558.000</td>\n",
       "      <td>4061558.000</td>\n",
       "    </tr>\n",
       "    <tr>\n",
       "      <th>mean</th>\n",
       "      <td>13.158</td>\n",
       "      <td>1.854</td>\n",
       "    </tr>\n",
       "    <tr>\n",
       "      <th>std</th>\n",
       "      <td>9.046</td>\n",
       "      <td>1.271</td>\n",
       "    </tr>\n",
       "    <tr>\n",
       "      <th>min</th>\n",
       "      <td>0.017</td>\n",
       "      <td>0.000</td>\n",
       "    </tr>\n",
       "    <tr>\n",
       "      <th>25%</th>\n",
       "      <td>6.433</td>\n",
       "      <td>0.916</td>\n",
       "    </tr>\n",
       "    <tr>\n",
       "      <th>50%</th>\n",
       "      <td>10.817</td>\n",
       "      <td>1.576</td>\n",
       "    </tr>\n",
       "    <tr>\n",
       "      <th>75%</th>\n",
       "      <td>17.650</td>\n",
       "      <td>2.573</td>\n",
       "    </tr>\n",
       "    <tr>\n",
       "      <th>max</th>\n",
       "      <td>44.867</td>\n",
       "      <td>5.680</td>\n",
       "    </tr>\n",
       "  </tbody>\n",
       "</table>\n",
       "</div>"
      ],
      "text/plain": [
       "      duration_minutes  distance_km\n",
       "count      4061558.000  4061558.000\n",
       "mean            13.158        1.854\n",
       "std              9.046        1.271\n",
       "min              0.017        0.000\n",
       "25%              6.433        0.916\n",
       "50%             10.817        1.576\n",
       "75%             17.650        2.573\n",
       "max             44.867        5.680"
      ]
     },
     "execution_count": 22,
     "metadata": {},
     "output_type": "execute_result"
    }
   ],
   "source": [
    "df[['duration_minutes','distance_km']].describe().applymap(lambda x: f\"{x:0.3f}\")"
   ]
  },
  {
   "cell_type": "markdown",
   "id": "0a1ea40f",
   "metadata": {},
   "source": [
    "**Observation:**\n",
    "\n",
    "The average user rides the bike for 13 minutes and 1.85 km.\n",
    "\n",
    "The std for duration is 9.04 suggesting that while the average is around 13 minutes, there are quite a few shorter and longer durations.\n",
    "\n",
    "The minimum duration_minutes is 0.017 minutes. Suggesting error in data entry.\n",
    "\n",
    "The minimum distance_km is 0.00, which could indicate trips that were started and ended at the same location, or again, potential data issues."
   ]
  },
  {
   "cell_type": "code",
   "execution_count": 23,
   "id": "3e89d918",
   "metadata": {},
   "outputs": [
    {
     "data": {
      "text/html": [
       "<div>\n",
       "<style scoped>\n",
       "    .dataframe tbody tr th:only-of-type {\n",
       "        vertical-align: middle;\n",
       "    }\n",
       "\n",
       "    .dataframe tbody tr th {\n",
       "        vertical-align: top;\n",
       "    }\n",
       "\n",
       "    .dataframe thead th {\n",
       "        text-align: right;\n",
       "    }\n",
       "</style>\n",
       "<table border=\"1\" class=\"dataframe\">\n",
       "  <thead>\n",
       "    <tr style=\"text-align: right;\">\n",
       "      <th></th>\n",
       "      <th>duration_minutes</th>\n",
       "      <th>distance_km</th>\n",
       "    </tr>\n",
       "    <tr>\n",
       "      <th>rideable_type</th>\n",
       "      <th></th>\n",
       "      <th></th>\n",
       "    </tr>\n",
       "  </thead>\n",
       "  <tbody>\n",
       "    <tr>\n",
       "      <th>classic_bike</th>\n",
       "      <td>13.133169</td>\n",
       "      <td>1.813186</td>\n",
       "    </tr>\n",
       "    <tr>\n",
       "      <th>docked_bike</th>\n",
       "      <td>21.236802</td>\n",
       "      <td>1.789175</td>\n",
       "    </tr>\n",
       "    <tr>\n",
       "      <th>electric_bike</th>\n",
       "      <td>11.418500</td>\n",
       "      <td>1.997412</td>\n",
       "    </tr>\n",
       "  </tbody>\n",
       "</table>\n",
       "</div>"
      ],
      "text/plain": [
       "               duration_minutes  distance_km\n",
       "rideable_type                               \n",
       "classic_bike          13.133169     1.813186\n",
       "docked_bike           21.236802     1.789175\n",
       "electric_bike         11.418500     1.997412"
      ]
     },
     "execution_count": 23,
     "metadata": {},
     "output_type": "execute_result"
    }
   ],
   "source": [
    "df.groupby('rideable_type')[['duration_minutes','distance_km']].mean()"
   ]
  },
  {
   "cell_type": "markdown",
   "id": "826bd4f8",
   "metadata": {},
   "source": [
    "Docked bikes are used for longer durations, which might suggest they are used in scenarios where bikes are rented for longer periods, possibly for leisure or errands (not going from point A to B directly).\n",
    "\n",
    "Electric bikes, despite being used for the shortest durations, cover the longest distances on average, potentially used for fast commutes. \n",
    "\n",
    "Classic bikes are used for moderate durations and distances, which could indicate they are chosen for routine or regular trips where the benefits of electric assist are not required\n"
   ]
  },
  {
   "cell_type": "code",
   "execution_count": 24,
   "id": "d5a0d08c",
   "metadata": {
    "scrolled": false
   },
   "outputs": [
    {
     "data": {
      "text/html": [
       "<div>\n",
       "<style scoped>\n",
       "    .dataframe tbody tr th:only-of-type {\n",
       "        vertical-align: middle;\n",
       "    }\n",
       "\n",
       "    .dataframe tbody tr th {\n",
       "        vertical-align: top;\n",
       "    }\n",
       "\n",
       "    .dataframe thead th {\n",
       "        text-align: right;\n",
       "    }\n",
       "</style>\n",
       "<table border=\"1\" class=\"dataframe\">\n",
       "  <thead>\n",
       "    <tr style=\"text-align: right;\">\n",
       "      <th></th>\n",
       "      <th>duration_minutes</th>\n",
       "      <th>distance_km</th>\n",
       "    </tr>\n",
       "    <tr>\n",
       "      <th>member_casual</th>\n",
       "      <th></th>\n",
       "      <th></th>\n",
       "    </tr>\n",
       "  </thead>\n",
       "  <tbody>\n",
       "    <tr>\n",
       "      <th>casual</th>\n",
       "      <td>15.962839</td>\n",
       "      <td>1.922356</td>\n",
       "    </tr>\n",
       "    <tr>\n",
       "      <th>member</th>\n",
       "      <td>11.181961</td>\n",
       "      <td>1.805301</td>\n",
       "    </tr>\n",
       "  </tbody>\n",
       "</table>\n",
       "</div>"
      ],
      "text/plain": [
       "               duration_minutes  distance_km\n",
       "member_casual                               \n",
       "casual                15.962839     1.922356\n",
       "member                11.181961     1.805301"
      ]
     },
     "execution_count": 24,
     "metadata": {},
     "output_type": "execute_result"
    }
   ],
   "source": [
    "df.groupby('member_casual')[['duration_minutes','distance_km']].mean()"
   ]
  },
  {
   "cell_type": "markdown",
   "id": "7a92d0b5",
   "metadata": {},
   "source": [
    "Casual users tend to use the service for longer durations than members while the distance traveled by casual users is only marginally greater than that of members, which might suggest that they are could potentially use the service for more leisurely activities."
   ]
  },
  {
   "cell_type": "code",
   "execution_count": 25,
   "id": "b586d7d3",
   "metadata": {
    "scrolled": false
   },
   "outputs": [
    {
     "data": {
      "text/html": [
       "<div>\n",
       "<style scoped>\n",
       "    .dataframe tbody tr th:only-of-type {\n",
       "        vertical-align: middle;\n",
       "    }\n",
       "\n",
       "    .dataframe tbody tr th {\n",
       "        vertical-align: top;\n",
       "    }\n",
       "\n",
       "    .dataframe thead th {\n",
       "        text-align: right;\n",
       "    }\n",
       "</style>\n",
       "<table border=\"1\" class=\"dataframe\">\n",
       "  <thead>\n",
       "    <tr style=\"text-align: right;\">\n",
       "      <th></th>\n",
       "      <th>ride_id</th>\n",
       "      <th>rideable_type</th>\n",
       "      <th>start_time</th>\n",
       "      <th>end_time</th>\n",
       "      <th>duration_minutes</th>\n",
       "      <th>day_of_week</th>\n",
       "      <th>time_of_day</th>\n",
       "      <th>month</th>\n",
       "      <th>season</th>\n",
       "      <th>distance_km</th>\n",
       "    </tr>\n",
       "    <tr>\n",
       "      <th>member_casual</th>\n",
       "      <th></th>\n",
       "      <th></th>\n",
       "      <th></th>\n",
       "      <th></th>\n",
       "      <th></th>\n",
       "      <th></th>\n",
       "      <th></th>\n",
       "      <th></th>\n",
       "      <th></th>\n",
       "      <th></th>\n",
       "    </tr>\n",
       "  </thead>\n",
       "  <tbody>\n",
       "    <tr>\n",
       "      <th>casual</th>\n",
       "      <td>1678513</td>\n",
       "      <td>1678513</td>\n",
       "      <td>1678513</td>\n",
       "      <td>1678513</td>\n",
       "      <td>1678513</td>\n",
       "      <td>1678513</td>\n",
       "      <td>1678513</td>\n",
       "      <td>1678513</td>\n",
       "      <td>1678513</td>\n",
       "      <td>1678513</td>\n",
       "    </tr>\n",
       "    <tr>\n",
       "      <th>member</th>\n",
       "      <td>2383045</td>\n",
       "      <td>2383045</td>\n",
       "      <td>2383045</td>\n",
       "      <td>2383045</td>\n",
       "      <td>2383045</td>\n",
       "      <td>2383045</td>\n",
       "      <td>2383045</td>\n",
       "      <td>2383045</td>\n",
       "      <td>2383045</td>\n",
       "      <td>2383045</td>\n",
       "    </tr>\n",
       "  </tbody>\n",
       "</table>\n",
       "</div>"
      ],
      "text/plain": [
       "               ride_id  rideable_type  start_time  end_time  duration_minutes  \\\n",
       "member_casual                                                                   \n",
       "casual         1678513        1678513     1678513   1678513           1678513   \n",
       "member         2383045        2383045     2383045   2383045           2383045   \n",
       "\n",
       "               day_of_week  time_of_day    month   season  distance_km  \n",
       "member_casual                                                           \n",
       "casual             1678513      1678513  1678513  1678513      1678513  \n",
       "member             2383045      2383045  2383045  2383045      2383045  "
      ]
     },
     "execution_count": 25,
     "metadata": {},
     "output_type": "execute_result"
    }
   ],
   "source": [
    "df.groupby('member_casual').count()"
   ]
  },
  {
   "cell_type": "markdown",
   "id": "6973370c",
   "metadata": {},
   "source": [
    "For members, the service appears to be a routine part of their daily travel, likely integrated into their regular commute such as going back and forth from work. Casual users, seem to use the service more sporadically or for leisure (tourists)."
   ]
  },
  {
   "cell_type": "markdown",
   "id": "61a397df",
   "metadata": {},
   "source": [
    "# Univariate Data"
   ]
  },
  {
   "cell_type": "markdown",
   "id": "33a69f6f",
   "metadata": {},
   "source": [
    "## Distribution Plot"
   ]
  },
  {
   "cell_type": "code",
   "execution_count": 45,
   "id": "3d9cad3b",
   "metadata": {
    "scrolled": true
   },
   "outputs": [
    {
     "data": {
      "image/png": "[encoded data removed]",
      "text/plain": [
       "<Figure size 1296x432 with 3 Axes>"
      ]
     },
     "metadata": {
      "needs_background": "light"
     },
     "output_type": "display_data"
    }
   ],
   "source": [
    "\n",
    "plt.figure(figsize=(18, 6))\n",
    "\n",
    "# Distribution for Duration \n",
    "plt.subplot(1, 3, 1)\n",
    "sns.histplot(df['duration_minutes'], bins=30, color='lightcoral', edgecolor='black')\n",
    "plt.title('Distribution of Duration Minutes')\n",
    "plt.xlabel('Duration (Minutes)')\n",
    "plt.ylabel('Density')\n",
    "\n",
    "# Distribution for Month\n",
    "plt.subplot(1, 3, 2)\n",
    "sns.histplot(df['month'], bins=12, color='lightgreen', kde=False, edgecolor='black') \n",
    "plt.title('Distribution of Month')\n",
    "plt.xlabel('Month')\n",
    "plt.ylabel('Density')\n",
    "\n",
    "# Distribution for Distance\n",
    "plt.subplot(1, 3, 3)\n",
    "sns.histplot(df['distance_km'], bins=30, color='lightblue', edgecolor='black')\n",
    "plt.title('Distribution of Distance in Kilometers')\n",
    "plt.xlabel('Distance (Kilometers)')\n",
    "plt.ylabel('Density')\n",
    "\n",
    "plt.tight_layout()\n",
    "plt.show()"
   ]
  },
  {
   "cell_type": "markdown",
   "id": "b7191b48",
   "metadata": {},
   "source": [
    "**Distribution of Duration Minutes:**\n",
    "\n",
    "1. The histogram is skewed to the right, indicating that most rides are of shorter duration, with a significant drop-off as duration increases.\n",
    "\n",
    "2. The highest frequency of rides occurs in the bin representing durations of just a few minutes, suggesting that short rides are the most common.\n",
    "\n",
    "3. There is a long tail extending to the right, meaning there are fewer rides as the duration increases, but some rides still last up to 40 minutes or more.\n",
    "\n",
    "**Distribution of Month:**\n",
    "\n",
    "1. This histogram suggests that there exists a seasonal trends in bike usage.\n",
    "\n",
    "2. The highest peaks are in the months corresponding to mid-year,  indicating summer or warmer months when bike usage is higher.\n",
    "\n",
    "\n",
    "**Distribution of Distance in Kilometers:**\n",
    "\n",
    "1. The histogram is right-skewed, showing that shorter distances are far more common than longer ones.\n",
    "\n",
    "2. There is a clear peak at the lower end of the distance range, decreasing steadily as the distance increases.\n",
    "\n",
    "3. The frequency becomes very low for distances beyond 5 kilometers, suggesting that users typically do not use the service for long-distance rides."
   ]
  },
  {
   "cell_type": "code",
   "execution_count": 31,
   "id": "e29836f6",
   "metadata": {},
   "outputs": [
    {
     "data": {
      "image/png": "[encoded data removed]",
      "text/plain": [
       "<Figure size 1296x432 with 3 Axes>"
      ]
     },
     "metadata": {
      "needs_background": "light"
     },
     "output_type": "display_data"
    }
   ],
   "source": [
    "\n",
    "plt.figure(figsize=(18, 6))\n",
    "\n",
    "# Order for X axis\n",
    "day_order = ['Monday', 'Tuesday', 'Wednesday', 'Thursday', 'Friday', 'Saturday', 'Sunday']\n",
    "df['day_of_week'] = pd.Categorical(df['day_of_week'], categories=day_order, ordered=True)\n",
    "\n",
    "# Histogram for Day of Week\n",
    "plt.subplot(1, 3, 1)\n",
    "sns.histplot(df['day_of_week'], bins=7, color='lightcoral', edgecolor='black') \n",
    "plt.title('Histogram of Day of Week')\n",
    "plt.xlabel('Day of Week')\n",
    "plt.ylabel('Frequency')\n",
    "\n",
    "# Order for X axis\n",
    "time_order = ['Morning','Afternoon','Evening','Night']\n",
    "df['time_of_day'] = pd.Categorical(df['time_of_day'], categories=time_order, ordered=True)\n",
    "\n",
    "# Histogram for Time of Day\n",
    "plt.subplot(1, 3, 2)\n",
    "sns.histplot(df['time_of_day'], bins=24, color='lightgreen', edgecolor='black')  \n",
    "plt.title('Histogram of Time of Day')\n",
    "plt.xlabel('Time of Day')\n",
    "plt.ylabel('Frequency')\n",
    "\n",
    "# Order for X axis\n",
    "season_order = ['Spring','Summer','Fall','Winter']\n",
    "df['season'] = pd.Categorical(df['season'], categories=season_order, ordered=True)\n",
    "\n",
    "# Histogram for Season\n",
    "plt.subplot(1, 3, 3)\n",
    "sns.histplot(df['season'], color='lightblue', edgecolor='black') \n",
    "plt.title('Histogram of Season')\n",
    "plt.xlabel('Season')\n",
    "plt.ylabel('Frequency')\n",
    "\n",
    "\n",
    "plt.tight_layout()\n",
    "plt.show()"
   ]
  },
  {
   "cell_type": "markdown",
   "id": "e4865c80",
   "metadata": {},
   "source": [
    "**Histogram of Day of Week:**\n",
    "\n",
    "1. The activity peaks on Saturday, indicating it's the most popular day\n",
    "2. There's a consistent pattern from Monday to Friday, with a slight increase on Friday.\n",
    "\n",
    "**Histogram of Time of Day:**\n",
    "\n",
    "1. The morning is the least popular time for the activity, followed by a substantial increase in the afternoon.\n",
    "2. Afternoon shows the highest frequency\n",
    "3. The night time has a lowest frequency\n",
    "\n",
    "**Histogram of Season:**\n",
    "\n",
    "1. The summer season has the highest frequency of activity, which then decreases as we move into fall.\n",
    "2. Winter has the lowest frequency."
   ]
  },
  {
   "cell_type": "markdown",
   "id": "1816607b",
   "metadata": {},
   "source": [
    "# Bivariate Analysis"
   ]
  },
  {
   "cell_type": "markdown",
   "id": "bb789657",
   "metadata": {},
   "source": [
    "## Count Plot"
   ]
  },
  {
   "cell_type": "code",
   "execution_count": 32,
   "id": "665226e1",
   "metadata": {
    "scrolled": false
   },
   "outputs": [
    {
     "data": {
      "image/png": "[encoded data removed]",
      "text/plain": [
       "<Figure size 1080x1152 with 4 Axes>"
      ]
     },
     "metadata": {
      "needs_background": "light"
     },
     "output_type": "display_data"
    }
   ],
   "source": [
    "plt.figure(figsize=(15, 16))  \n",
    "\n",
    "# Countplot for rideable_type\n",
    "plt.subplot(4, 1, 1)  \n",
    "sns.countplot(y='rideable_type', hue='member_casual', data=df)\n",
    "plt.title('Count of Ride Types by Member Type')\n",
    "plt.xlabel('Count')\n",
    "plt.ylabel('Rideable Type')\n",
    "plt.legend(title='Member/Casual')\n",
    "\n",
    "# Countplot for season\n",
    "plt.subplot(4, 1, 2)  \n",
    "sns.countplot(y='season', hue='member_casual', data=df)\n",
    "plt.title('Count of Rides by Season and Member Type')\n",
    "plt.xlabel('Count')\n",
    "plt.ylabel('Season')\n",
    "plt.legend(title='Member/Casual')\n",
    "\n",
    "# Countplot for time_of_day\n",
    "plt.subplot(4, 1, 3)  \n",
    "sns.countplot(y='time_of_day', hue='member_casual', data=df)\n",
    "plt.title('Count of Rides by Time of Day and Member Type')\n",
    "plt.xlabel('Count')\n",
    "plt.ylabel('Time of Day')\n",
    "plt.legend(title='Member/Casual')\n",
    "\n",
    "# Countplot for day_of_week\n",
    "plt.subplot(4, 1, 4) \n",
    "sns.countplot(y='day_of_week', hue='member_casual', data=df)\n",
    "plt.title('Count of Rides by Day of Week and Member Type')\n",
    "plt.xlabel('Count')\n",
    "plt.ylabel('Day of Week')\n",
    "plt.legend(title='Member/Casual')\n",
    "\n",
    "plt.tight_layout()\n",
    "plt.show()"
   ]
  },
  {
   "cell_type": "markdown",
   "id": "c5cc5b64",
   "metadata": {},
   "source": [
    "**Ride Type by Member:**\n",
    "\n",
    "1. Classic Bikes: Members use classic bikes more than casual users do.\n",
    "\n",
    "2. Docked Bikes: Docked bikes are used significantly less than the other types and no members use the docked_bike\n",
    "\n",
    "3. Electric Bikes: Electric bikes are predominantly used by casual users.\n",
    "\n",
    "**Season by Member:**\n",
    "\n",
    "1. Member usage appears to be more consistent across seasons compared to casual usage, which shows more variability.\n",
    "\n",
    "2. The number of rides is highest for both user types in the Summer, with member usage slightly surpassing casual usage.\n",
    "\n",
    "3. The ratio between Casual and Members closes during Summer and is biggest during Winter\n",
    "\n",
    "**Time of Day:**\n",
    "\n",
    "1. Afternoon is when the service is most used\n",
    "\n",
    "2. During the night there are more casual riders than members\n",
    "\n",
    "**Day of Week:**\n",
    "\n",
    "1. There are more casual riders than member riders on the weekend."
   ]
  },
  {
   "cell_type": "markdown",
   "id": "26e03cbd",
   "metadata": {},
   "source": [
    "## Density Plot"
   ]
  },
  {
   "cell_type": "code",
   "execution_count": 33,
   "id": "277f74e5",
   "metadata": {},
   "outputs": [
    {
     "data": {
      "image/png": "[encoded data removed]",
      "text/plain": [
       "<Figure size 1728x432 with 2 Axes>"
      ]
     },
     "metadata": {
      "needs_background": "light"
     },
     "output_type": "display_data"
    }
   ],
   "source": [
    "fig, axes = plt.subplots(1, 2, figsize=(24, 6))  \n",
    "\n",
    "# KDE plot for Duration\n",
    "sns.kdeplot(data=df, x='duration_minutes', hue='member_casual', fill=True, ax=axes[0])\n",
    "axes[0].set_title('Density Estimate of Duration Minutes by Member Type')\n",
    "axes[0].set_xlabel('Duration Minutes')\n",
    "axes[0].set_ylabel('Density')\n",
    "\n",
    "# KDE plot for Distance\n",
    "sns.kdeplot(data=df, x='distance_km', hue='member_casual', fill=True, ax=axes[1])\n",
    "axes[1].set_title('Density Estimate of Distance by Member Type')\n",
    "axes[1].set_xlabel('Distance(km)')\n",
    "axes[1].set_ylabel('Density')\n",
    "\n",
    "\n",
    "plt.tight_layout()\n",
    "plt.show()"
   ]
  },
  {
   "cell_type": "markdown",
   "id": "4133f040",
   "metadata": {},
   "source": [
    "**Duration vs Member Type:**\n",
    "\n",
    "\n",
    "1. Member has a peak that is much higher than casuals, indicating that members in general, use the service for a shorter amount of time\n",
    "\n",
    "2. Casual's distribution is wider and more shallow\n",
    "\n",
    "**Distance vs Member Type:**\n",
    "\n",
    "1. Both categories have  bimodal distributions. Could indicate the existence of two different subpopulations within each category.\n",
    "\n"
   ]
  },
  {
   "cell_type": "markdown",
   "id": "87d50886",
   "metadata": {},
   "source": [
    "## Box Plot"
   ]
  },
  {
   "cell_type": "code",
   "execution_count": 34,
   "id": "73b3be74",
   "metadata": {
    "scrolled": true
   },
   "outputs": [
    {
     "data": {
      "image/png": "[encoded data removed]",
      "text/plain": [
       "<Figure size 1728x432 with 2 Axes>"
      ]
     },
     "metadata": {
      "needs_background": "light"
     },
     "output_type": "display_data"
    }
   ],
   "source": [
    "fig, axes = plt.subplots(1, 2, figsize=(24, 6)) \n",
    "\n",
    "# Boxplot for duration by rideable_type \n",
    "sns.boxplot(data=df, x='rideable_type', y='duration_minutes', ax=axes[0])\n",
    "axes[0].set_title('Boxplot of Duration Minutes by Rideable Type')\n",
    "axes[0].set_xlabel('Rideable Type')\n",
    "axes[0].set_ylabel('Duration Minutes')\n",
    "\n",
    "# Boxplot for distance by rideable_type\n",
    "sns.boxplot(data=df, x='rideable_type', y='distance_km', ax=axes[1])\n",
    "axes[1].set_title('Boxplot of Distance by Rideable Type')\n",
    "axes[1].set_xlabel('Rideable Type')\n",
    "axes[1].set_ylabel('Distance (km)')\n",
    "\n",
    "plt.tight_layout()\n",
    "plt.show()"
   ]
  },
  {
   "cell_type": "markdown",
   "id": "3054ee16",
   "metadata": {},
   "source": [
    "**Boxplot of Duration Minutes by Rideable Type:**\n",
    "\n",
    "\n",
    "The classic bike has the lowest median duration, while the electric bike has the highest median duration.\n",
    "The docked bike shows a  higher variability in duration minutes compared to the other types judging from the box size.\n",
    "\n",
    "Whiskers extend to the furthest points that are considered not to be outliers. Points beyond the whiskers are typically considered outliers and are often plotted as individual points, although there are none visible in this plot.\n",
    "\n",
    "**Boxplot of Distance by Rideable Type:**\n",
    "\n",
    "The median distance traveled is quite close for all rideable types, but the electric bike shows a slightly higher median than the other types.\n",
    "\n",
    "The docked bike shows a wider range compared to the classic and electric bikes.\n",
    "The IQR for the classic bike is the narrowest, showing that the distances traveled on classic bikes are more consistent compared to the other types."
   ]
  },
  {
   "cell_type": "markdown",
   "id": "ccaebd23",
   "metadata": {},
   "source": [
    "# Classification"
   ]
  },
  {
   "cell_type": "code",
   "execution_count": 35,
   "id": "74ab5414",
   "metadata": {},
   "outputs": [],
   "source": [
    "from sklearn.model_selection import train_test_split\n",
    "from sklearn.ensemble import GradientBoostingClassifier\n",
    "from sklearn.ensemble import RandomForestClassifier\n",
    "from sklearn.model_selection import train_test_split"
   ]
  },
  {
   "cell_type": "markdown",
   "id": "e9d8122d",
   "metadata": {},
   "source": [
    "### Creating a copy of dataframe for machine learning"
   ]
  },
  {
   "cell_type": "code",
   "execution_count": 36,
   "id": "996274f8",
   "metadata": {},
   "outputs": [],
   "source": [
    "data_ML = df.copy(deep=True)\n",
    "data_ML['start_time'] = data_ML['start_time'].dt.hour\n",
    "data_ML = data_ML.drop(columns = ['ride_id','end_time'])"
   ]
  },
  {
   "cell_type": "markdown",
   "id": "0e299c76",
   "metadata": {},
   "source": [
    "### One Hot Encoding"
   ]
  },
  {
   "cell_type": "code",
   "execution_count": 37,
   "id": "66e4ffd8",
   "metadata": {},
   "outputs": [],
   "source": [
    "categorical_columns = ['rideable_type', 'day_of_week', 'time_of_day', 'season']\n",
    "data_ML = pd.get_dummies(data_ML, columns=categorical_columns)"
   ]
  },
  {
   "cell_type": "code",
   "execution_count": 38,
   "id": "f540e156",
   "metadata": {},
   "outputs": [],
   "source": [
    "data_ML['member_casual'] = data_ML['member_casual'].astype('category').cat.codes"
   ]
  },
  {
   "cell_type": "code",
   "execution_count": 39,
   "id": "dfa43f7d",
   "metadata": {
    "scrolled": false
   },
   "outputs": [
    {
     "data": {
      "text/html": [
       "<div>\n",
       "<style scoped>\n",
       "    .dataframe tbody tr th:only-of-type {\n",
       "        vertical-align: middle;\n",
       "    }\n",
       "\n",
       "    .dataframe tbody tr th {\n",
       "        vertical-align: top;\n",
       "    }\n",
       "\n",
       "    .dataframe thead th {\n",
       "        text-align: right;\n",
       "    }\n",
       "</style>\n",
       "<table border=\"1\" class=\"dataframe\">\n",
       "  <thead>\n",
       "    <tr style=\"text-align: right;\">\n",
       "      <th></th>\n",
       "      <th>start_time</th>\n",
       "      <th>member_casual</th>\n",
       "      <th>duration_minutes</th>\n",
       "      <th>month</th>\n",
       "      <th>distance_km</th>\n",
       "      <th>rideable_type_classic_bike</th>\n",
       "      <th>rideable_type_docked_bike</th>\n",
       "      <th>rideable_type_electric_bike</th>\n",
       "      <th>day_of_week_Monday</th>\n",
       "      <th>day_of_week_Tuesday</th>\n",
       "      <th>...</th>\n",
       "      <th>day_of_week_Saturday</th>\n",
       "      <th>day_of_week_Sunday</th>\n",
       "      <th>time_of_day_Morning</th>\n",
       "      <th>time_of_day_Afternoon</th>\n",
       "      <th>time_of_day_Evening</th>\n",
       "      <th>time_of_day_Night</th>\n",
       "      <th>season_Spring</th>\n",
       "      <th>season_Summer</th>\n",
       "      <th>season_Fall</th>\n",
       "      <th>season_Winter</th>\n",
       "    </tr>\n",
       "  </thead>\n",
       "  <tbody>\n",
       "    <tr>\n",
       "      <th>1</th>\n",
       "      <td>14</td>\n",
       "      <td>0</td>\n",
       "      <td>20.716667</td>\n",
       "      <td>11</td>\n",
       "      <td>2.590595</td>\n",
       "      <td>0</td>\n",
       "      <td>1</td>\n",
       "      <td>0</td>\n",
       "      <td>0</td>\n",
       "      <td>0</td>\n",
       "      <td>...</td>\n",
       "      <td>0</td>\n",
       "      <td>1</td>\n",
       "      <td>0</td>\n",
       "      <td>1</td>\n",
       "      <td>0</td>\n",
       "      <td>0</td>\n",
       "      <td>0</td>\n",
       "      <td>0</td>\n",
       "      <td>1</td>\n",
       "      <td>0</td>\n",
       "    </tr>\n",
       "    <tr>\n",
       "      <th>2</th>\n",
       "      <td>10</td>\n",
       "      <td>0</td>\n",
       "      <td>3.350000</td>\n",
       "      <td>9</td>\n",
       "      <td>0.000000</td>\n",
       "      <td>0</td>\n",
       "      <td>1</td>\n",
       "      <td>0</td>\n",
       "      <td>0</td>\n",
       "      <td>0</td>\n",
       "      <td>...</td>\n",
       "      <td>0</td>\n",
       "      <td>1</td>\n",
       "      <td>1</td>\n",
       "      <td>0</td>\n",
       "      <td>0</td>\n",
       "      <td>0</td>\n",
       "      <td>0</td>\n",
       "      <td>0</td>\n",
       "      <td>1</td>\n",
       "      <td>0</td>\n",
       "    </tr>\n",
       "    <tr>\n",
       "      <th>6</th>\n",
       "      <td>17</td>\n",
       "      <td>0</td>\n",
       "      <td>14.500000</td>\n",
       "      <td>3</td>\n",
       "      <td>1.494597</td>\n",
       "      <td>0</td>\n",
       "      <td>1</td>\n",
       "      <td>0</td>\n",
       "      <td>0</td>\n",
       "      <td>0</td>\n",
       "      <td>...</td>\n",
       "      <td>0</td>\n",
       "      <td>1</td>\n",
       "      <td>0</td>\n",
       "      <td>0</td>\n",
       "      <td>1</td>\n",
       "      <td>0</td>\n",
       "      <td>1</td>\n",
       "      <td>0</td>\n",
       "      <td>0</td>\n",
       "      <td>0</td>\n",
       "    </tr>\n",
       "    <tr>\n",
       "      <th>8</th>\n",
       "      <td>17</td>\n",
       "      <td>0</td>\n",
       "      <td>7.783333</td>\n",
       "      <td>5</td>\n",
       "      <td>1.011226</td>\n",
       "      <td>0</td>\n",
       "      <td>1</td>\n",
       "      <td>0</td>\n",
       "      <td>0</td>\n",
       "      <td>0</td>\n",
       "      <td>...</td>\n",
       "      <td>0</td>\n",
       "      <td>1</td>\n",
       "      <td>0</td>\n",
       "      <td>0</td>\n",
       "      <td>1</td>\n",
       "      <td>0</td>\n",
       "      <td>1</td>\n",
       "      <td>0</td>\n",
       "      <td>0</td>\n",
       "      <td>0</td>\n",
       "    </tr>\n",
       "    <tr>\n",
       "      <th>12</th>\n",
       "      <td>14</td>\n",
       "      <td>0</td>\n",
       "      <td>11.183333</td>\n",
       "      <td>5</td>\n",
       "      <td>0.534562</td>\n",
       "      <td>0</td>\n",
       "      <td>1</td>\n",
       "      <td>0</td>\n",
       "      <td>0</td>\n",
       "      <td>0</td>\n",
       "      <td>...</td>\n",
       "      <td>0</td>\n",
       "      <td>1</td>\n",
       "      <td>0</td>\n",
       "      <td>1</td>\n",
       "      <td>0</td>\n",
       "      <td>0</td>\n",
       "      <td>1</td>\n",
       "      <td>0</td>\n",
       "      <td>0</td>\n",
       "      <td>0</td>\n",
       "    </tr>\n",
       "  </tbody>\n",
       "</table>\n",
       "<p>5 rows × 23 columns</p>\n",
       "</div>"
      ],
      "text/plain": [
       "    start_time  member_casual  duration_minutes  month  distance_km  \\\n",
       "1           14              0         20.716667     11     2.590595   \n",
       "2           10              0          3.350000      9     0.000000   \n",
       "6           17              0         14.500000      3     1.494597   \n",
       "8           17              0          7.783333      5     1.011226   \n",
       "12          14              0         11.183333      5     0.534562   \n",
       "\n",
       "    rideable_type_classic_bike  rideable_type_docked_bike  \\\n",
       "1                            0                          1   \n",
       "2                            0                          1   \n",
       "6                            0                          1   \n",
       "8                            0                          1   \n",
       "12                           0                          1   \n",
       "\n",
       "    rideable_type_electric_bike  day_of_week_Monday  day_of_week_Tuesday  ...  \\\n",
       "1                             0                   0                    0  ...   \n",
       "2                             0                   0                    0  ...   \n",
       "6                             0                   0                    0  ...   \n",
       "8                             0                   0                    0  ...   \n",
       "12                            0                   0                    0  ...   \n",
       "\n",
       "    day_of_week_Saturday  day_of_week_Sunday  time_of_day_Morning  \\\n",
       "1                      0                   1                    0   \n",
       "2                      0                   1                    1   \n",
       "6                      0                   1                    0   \n",
       "8                      0                   1                    0   \n",
       "12                     0                   1                    0   \n",
       "\n",
       "    time_of_day_Afternoon  time_of_day_Evening  time_of_day_Night  \\\n",
       "1                       1                    0                  0   \n",
       "2                       0                    0                  0   \n",
       "6                       0                    1                  0   \n",
       "8                       0                    1                  0   \n",
       "12                      1                    0                  0   \n",
       "\n",
       "    season_Spring  season_Summer  season_Fall  season_Winter  \n",
       "1               0              0            1              0  \n",
       "2               0              0            1              0  \n",
       "6               1              0            0              0  \n",
       "8               1              0            0              0  \n",
       "12              1              0            0              0  \n",
       "\n",
       "[5 rows x 23 columns]"
      ]
     },
     "execution_count": 39,
     "metadata": {},
     "output_type": "execute_result"
    }
   ],
   "source": [
    "data_ML.head()"
   ]
  },
  {
   "cell_type": "markdown",
   "id": "c9917e98",
   "metadata": {},
   "source": [
    "## Scaling\n"
   ]
  },
  {
   "cell_type": "code",
   "execution_count": 40,
   "id": "8298b196",
   "metadata": {},
   "outputs": [],
   "source": [
    "from sklearn.preprocessing import StandardScaler\n",
    "\n",
    "columns_to_scale = ['duration_minutes', 'distance_km']\n",
    "\n",
    "#Scaling\n",
    "scaler = StandardScaler()\n",
    "data_ML[columns_to_scale] = scaler.fit_transform(data_ML[columns_to_scale])"
   ]
  },
  {
   "cell_type": "code",
   "execution_count": 41,
   "id": "dcb74537",
   "metadata": {},
   "outputs": [],
   "source": [
    "y=data_ML['member_casual']\n",
    "X = data_ML.drop(columns = 'member_casual')\n",
    "X_train, X_test, y_train, y_test = train_test_split(X,y, test_size=0.2, random_state=42,stratify=y)"
   ]
  },
  {
   "cell_type": "markdown",
   "id": "516b26d4",
   "metadata": {},
   "source": [
    "## Classification"
   ]
  },
  {
   "cell_type": "code",
   "execution_count": 43,
   "id": "c225a9f0",
   "metadata": {},
   "outputs": [
    {
     "name": "stdout",
     "output_type": "stream",
     "text": [
      "Accuracy: 70.18%\n"
     ]
    }
   ],
   "source": [
    "from sklearn.model_selection import train_test_split\n",
    "from sklearn.metrics import accuracy_score\n",
    "import xgboost as xgb\n",
    "\n",
    "# Initialize and Train\n",
    "xgb_clf = xgb.XGBClassifier(objective='binary:logistic', n_estimators=100, learning_rate=0.1, max_depth=3, random_state=42)\n",
    "xgb_clf.fit(X_train, y_train)\n",
    "\n",
    "# Predict and evaluate \n",
    "y_pred = xgb_clf.predict(X_test)\n",
    "accuracy = accuracy_score(y_test, y_pred)\n",
    "rounded_accuracy = round(accuracy * 100, 2)\n",
    "print(f'Accuracy: {rounded_accuracy}%')"
   ]
  },
  {
   "cell_type": "markdown",
   "id": "a37d0ad7",
   "metadata": {},
   "source": [
    "## Feature Selection"
   ]
  },
  {
   "cell_type": "markdown",
   "id": "347404c5",
   "metadata": {},
   "source": [
    "Why perform feature selection?\n",
    "\n",
    "**Model Complexity:** More features can make the model more complex, which might **lead to overfitting** if not managed correctly with regularization or cross-validation.\n",
    "\n",
    "**Performance Increase:** If the increase in performance from adding more features is substantial and justifiable for the problem at hand, then it makes sense to include them.\n",
    "\n",
    "**Diminishing Returns:** It's important to assess whether the magnitude of the improvement is significant enough compared to the complexity added. If the gain is marginal, it might not be worth the additional complexity and time to run the algorithm.\n",
    "\n",
    "**Interpretability:** A model with fewer features might be easier to interpret and explain.\n",
    "\n"
   ]
  },
  {
   "cell_type": "code",
   "execution_count": 44,
   "id": "5b8ba94e",
   "metadata": {},
   "outputs": [],
   "source": [
    "from sklearn.tree import DecisionTreeClassifier\n",
    "from sklearn.feature_selection import RFE\n",
    "from sklearn.model_selection import train_test_split\n",
    "from sklearn.metrics import accuracy_score\n",
    "\n",
    "scores =[]\n",
    "for k in range(1,25):\n",
    "    \n",
    "    selector = RFE(xgb_clf, n_features_to_select=k, step=1)\n",
    "    X_train_selected = selector.fit_transform(X_train, y_train)\n",
    "    X_test_selected = selector.transform(X_test)\n",
    "    \n",
    "    xgb_clf.fit(X_train_selected, y_train)\n",
    "    y_pred_selected = xgb_clf.predict(X_test_selected)\n",
    "    accuracy_selected = accuracy_score(y_test, y_pred_selected)\n",
    "    scores.append(accuracy_selected)"
   ]
  },
  {
   "cell_type": "code",
   "execution_count": 46,
   "id": "3645d0d0",
   "metadata": {},
   "outputs": [
    {
     "data": {
      "image/png": "[encoded data removed]",
      "text/plain": [
       "<Figure size 720x432 with 1 Axes>"
      ]
     },
     "metadata": {
      "needs_background": "light"
     },
     "output_type": "display_data"
    }
   ],
   "source": [
    "# Creating Line Plot    \n",
    "x = range(1, 25)\n",
    "\n",
    "plt.figure(figsize=(10, 6))\n",
    "plt.plot(x, scores, marker='o')  \n",
    "plt.title('Line Plot of Scores')\n",
    "plt.xlabel('X-axis (1 to 24)')\n",
    "plt.ylabel('Scores')\n",
    "plt.xticks(x) \n",
    "plt.grid(True)\n",
    "plt.show()"
   ]
  },
  {
   "cell_type": "markdown",
   "id": "941ff883",
   "metadata": {},
   "source": [
    "Looking at this graph, 10 features seem to be the sweet spot between performance and reduction in features."
   ]
  },
  {
   "cell_type": "code",
   "execution_count": 47,
   "id": "0a8654aa",
   "metadata": {},
   "outputs": [
    {
     "name": "stdout",
     "output_type": "stream",
     "text": [
      "Selected features: ['duration_minutes', 'distance_km', 'rideable_type_classic_bike', 'rideable_type_docked_bike', 'day_of_week_Saturday', 'day_of_week_Sunday', 'time_of_day_Morning', 'time_of_day_Night', 'season_Summer', 'season_Winter']\n"
     ]
    }
   ],
   "source": [
    "#get 10 selected features\n",
    "selector = RFE(xgb_clf, n_features_to_select=10, step=1)\n",
    "X_train_selected = selector.fit_transform(X_train, y_train)\n",
    "X_test_selected = selector.transform(X_test)\n",
    "\n",
    "selected_features_mask = selector.support_\n",
    "selected_features = X_train.columns[selected_features_mask]\n",
    "print(\"Selected features:\", selected_features.tolist())"
   ]
  },
  {
   "cell_type": "markdown",
   "id": "c425face",
   "metadata": {},
   "source": [
    "## Classification with 10 Features"
   ]
  },
  {
   "cell_type": "code",
   "execution_count": 48,
   "id": "6b697042",
   "metadata": {},
   "outputs": [
    {
     "name": "stdout",
     "output_type": "stream",
     "text": [
      "Accuracy with selected features: 69.82%\n"
     ]
    }
   ],
   "source": [
    "# selector = RFE(xgb_clf, n_features_to_select=10, step=1)\n",
    "# X_train_selected = selector.fit_transform(X_train, y_train)\n",
    "# X_test_selected = selector.transform(X_test)\n",
    "\n",
    "xgb_clf.fit(X_train_selected, y_train)\n",
    "y_pred_selected = xgb_clf.predict(X_test_selected)\n",
    "accuracy_selected = accuracy_score(y_test, y_pred_selected)\n",
    "rounded_accuracy_selected = round(accuracy_selected * 100, 2)\n",
    "print(f'Accuracy with selected features: {rounded_accuracy_selected}%')"
   ]
  },
  {
   "cell_type": "markdown",
   "id": "4d87a4e5",
   "metadata": {},
   "source": [
    "# Solutions"
   ]
  },
  {
   "cell_type": "markdown",
   "id": "c8bf0730",
   "metadata": {},
   "source": [
    "### 1. How do annual members and casual riders use Cyclistic bikes differently?\n",
    "\n",
    "**Duration of Rides:** The density plot of duration minutes shows that casual riders tend to have longer rides compared to annual members, whose rides are more concentrated in shorter durations. This suggests that casual riders may be using bikes for leisure or exploration, while members might be using them for more routine and shorter commutes such as going to work.\n",
    "\n",
    "**Ride Frequency by Month:** The distribution of rides by month shows a peak in warmer months, with high usage in the summer and low usage in the winter. Both user groups follow this trend, but the drop in casual ridership during colder months is more pronounced than for members. This could imply that annual members are more likely to continue riding, regardless of the season, due to the commitment of a membership and the routine nature of their rides.\n",
    "\n",
    "**Distance of Rides:** The distribution of distance shows that casual riders often take longer trips compared to members. Aligning with the idea that casual riders may be taking bikes for recreational purposes, which normally involve longer distances.\n",
    "\n",
    "**Time of Day and Day of Week:** Casual riders show a higher frequency of rides during weekends, especially on Saturdays, whereas member rides are more evenly distributed throughout the week. Suggesting that members are using the bikes consistently, while casual riders prefer using them during their leisure time on weekends.\n",
    "\n",
    "\n",
    "**Overall, these differences indicate that annual members are likely to use the bikes more for practical, routine purposes, and they exhibit more consistent riding behavior regardless of the season or day of the week. Casual riders, on the other hand, seem to use the bikes more for leisure and are influenced more by weather and free time during the weekends.**\n",
    "\n",
    "### 2. Why would casual riders buy Cyclistic annual memberships?\n",
    "\n",
    "**Cost Savings:** The density plots displaying longer ride durations and distances for casual riders suggest they could be incurring higher per-trip costs. An annual membership could offer better value for money, especially for those casual riders who use the service frequently enough to benefit from the unlimited ride potential of a membership.\n",
    "\n",
    "**Convenience for Recurring Trips:** The usage patterns depicted by the time of day and day of the week indicate that casual riders do use bikes regularly at certain times, such as weekends. An annual membership could simplify the process of getting a bike during these high-demand times.\n",
    "\n",
    "**Incentivizing Regular Exercise:** Casual riders who use the bikes for longer distances, as indicated by the distance distribution, might be motivated by health and fitness goals. An annual membership could encourage them to integrate cycling into their regular fitness routine.\n",
    "\n",
    "**Avoiding Seasonal Restrictions:** Since casual ridership drops in colder months, an annual membership could encourage riders to continue using the service throughout the year by mitigating the per-ride cost concerns associated with less frequent winter use.\n",
    "\n",
    "### 3. How can Cyclistic use digital media to influence casual riders to become members?\n",
    "\n",
    "**Highlight Cost Savings:** Create digital ad campaigns focusing on the cost-benefit of switching to an annual membership. Utilizing the data showing longer ride durations and distances for casual riders to illustrate potential savings.\n",
    "\n",
    "**Seasonal Promotions:** Utilize social media to push seasonal offers, especially during peak usage months as shown in the usage by month histogram. Offer sign-up discounts for memberships leading up to and during these months.\n",
    "\n",
    "**Ride Habit Encouragement:** Use the data showing frequent weekend use by casual riders to encourage them to make cycling a part of their regular routine. Promote a “Weekend Warrior” membership campaign that shows the transition from casual to committed rider.\n",
    "\n",
    "**Weather-Related Promotions:** Since casual ridership dips in colder months, create a campaign that encourages riding during all seasons, possibly offering off-season membership discounts."
   ]
  }
 ],
 "metadata": {
  "kernelspec": {
   "display_name": "Python 3 (ipykernel)",
   "language": "python",
   "name": "python3"
  },
  "language_info": {
   "codemirror_mode": {
    "name": "ipython",
    "version": 3
   },
   "file_extension": ".py",
   "mimetype": "text/x-python",
   "name": "python",
   "nbconvert_exporter": "python",
   "pygments_lexer": "ipython3",
   "version": "3.9.7"
  }
 },
 "nbformat": 4,
 "nbformat_minor": 5
}
